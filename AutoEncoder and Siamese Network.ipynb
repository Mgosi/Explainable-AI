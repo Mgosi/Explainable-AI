{
 "cells": [
  {
   "cell_type": "code",
   "execution_count": 1,
   "metadata": {
    "ExecuteTime": {
     "end_time": "2019-04-08T11:48:17.332367Z",
     "start_time": "2019-04-08T11:48:12.710654Z"
    }
   },
   "outputs": [
    {
     "name": "stderr",
     "output_type": "stream",
     "text": [
      "Using TensorFlow backend.\n"
     ]
    }
   ],
   "source": [
    "from keras.models import Model\n",
    "from keras.layers import Input, Conv2D, MaxPooling2D, BatchNormalization, Activation, Reshape, UpSampling2D, Flatten\n",
    "from IPython.display import SVG\n",
    "from keras.utils.vis_utils import model_to_dot\n",
    "from keras.layers import Dense\n",
    "import pandas as pd\n",
    "import numpy as np\n",
    "import cv2 as cv\n",
    "from keras.models import Sequential\n",
    "from keras.optimizers import Adam\n",
    "from matplotlib.pyplot import imshow\n",
    "%matplotlib inline\n",
    "from keras.callbacks import TensorBoard\n",
    "import random\n",
    "import os"
   ]
  },
  {
   "cell_type": "markdown",
   "metadata": {},
   "source": [
    "# Loading Images"
   ]
  },
  {
   "cell_type": "code",
   "execution_count": 53,
   "metadata": {
    "ExecuteTime": {
     "end_time": "2019-04-08T20:56:06.698582Z",
     "start_time": "2019-04-08T20:55:58.849868Z"
    }
   },
   "outputs": [
    {
     "data": {
      "text/plain": [
       "(952, 64, 64, 1)"
      ]
     },
     "execution_count": 53,
     "metadata": {},
     "output_type": "execute_result"
    }
   ],
   "source": [
    "seenValidation = pd.read_csv(\"./seen-dataset/dataset_seen_validation_siamese.csv\")\n",
    "seenTraining = pd.read_csv(\"./dataset_seen_training_siamese.csv\")\n",
    "seenTraining = seenTraining.drop(seenTraining.columns[[0]],axis=1)\n",
    "imgSeenTrainLoc = \"./seen-dataset/TrainingSet/\"\n",
    "imgSeenTestLoc = \"./seen-dataset/ValidationSet/\"\n",
    "trainSeenImgsList = os.listdir(imgSeenTrainLoc)\n",
    "testSeenImgsList = os.listdir(imgSeenTestLoc)\n",
    "trainSeenImgsList.sort()\n",
    "testSeenImgsList.sort()\n",
    "\n",
    "trainSeenImgs = []\n",
    "for i in range(len(trainSeenImgsList)):\n",
    "    trainSeenImgs.append((cv.imread(imgSeenTrainLoc+trainSeenImgsList[i],0).astype('float')/255).reshape((64,64,1)))\n",
    "trainSeenImgs = np.asarray(trainSeenImgs)\n",
    "trainSeenImgs.shape\n",
    "\n",
    "testSeenImgs = []\n",
    "for i in range(len(testSeenImgsList)):\n",
    "    testSeenImgs.append((cv.imread(imgSeenTestLoc+testSeenImgsList[i],0).astype('float')/255).reshape((64,64,1)))\n",
    "testSeenImgs = np.asarray(testSeenImgs)\n",
    "testSeenImgs.shape"
   ]
  },
  {
   "cell_type": "code",
   "execution_count": 3,
   "metadata": {
    "ExecuteTime": {
     "end_time": "2019-04-08T11:48:42.137120Z",
     "start_time": "2019-04-08T11:48:28.775635Z"
    }
   },
   "outputs": [
    {
     "data": {
      "text/plain": [
       "(1971, 64, 64, 1)"
      ]
     },
     "execution_count": 3,
     "metadata": {},
     "output_type": "execute_result"
    }
   ],
   "source": [
    "shuffleValidation = pd.read_csv(\"./dataset_shuffled_validation_siamese.csv\")\n",
    "shuffleTraining = pd.read_csv(\"./dataset_shuffled_training_siamese.csv\")\n",
    "shuffleTraining = shuffleTraining.drop(shuffleTraining.columns[[0]],axis=1)\n",
    "imgShuffleTrainLoc = \"./shuffled-dataset/TrainingSet/\"\n",
    "imgShuffleTestLoc = \"./shuffled-dataset/ValidationSet/\"\n",
    "trainShuffleImgsList = os.listdir(imgShuffleTrainLoc)\n",
    "testShuffleImgsList = os.listdir(imgShuffleTestLoc)\n",
    "#trainShuffleImgsList.sort()\n",
    "#testShuffleImgsList.sort()\n",
    "\n",
    "\n",
    "trainShuffleImgs = []\n",
    "for i in range(len(trainShuffleImgsList)):\n",
    "    trainShuffleImgs.append((cv.imread(imgShuffleTrainLoc+trainShuffleImgsList[i],0).astype('float')/255).reshape((64,64,1)))\n",
    "trainShuffleImgs = np.asarray(trainShuffleImgs)\n",
    "trainShuffleImgs.shape\n",
    "\n",
    "testShuffleImgs = []\n",
    "for i in range(len(testShuffleImgsList)):\n",
    "    testShuffleImgs.append((cv.imread(imgShuffleTestLoc+testShuffleImgsList[i],0).astype('float')/255).reshape((64,64,1)))\n",
    "testShuffleImgs = np.asarray(testShuffleImgs)\n",
    "testShuffleImgs.shape"
   ]
  },
  {
   "cell_type": "code",
   "execution_count": 4,
   "metadata": {
    "ExecuteTime": {
     "end_time": "2019-04-08T11:48:53.048256Z",
     "start_time": "2019-04-08T11:48:42.664887Z"
    },
    "scrolled": true
   },
   "outputs": [
    {
     "data": {
      "text/plain": [
       "(888, 64, 64, 1)"
      ]
     },
     "execution_count": 4,
     "metadata": {},
     "output_type": "execute_result"
    }
   ],
   "source": [
    "unseenValidation = pd.read_csv(\"./dataset_unseen_validation_siamese.csv\")\n",
    "unseenTraining = pd.read_csv(\"./dataset_unseen_training_siamese.csv\")\n",
    "unseenTraining = unseenTraining.drop(unseenTraining.columns[[0]],axis=1)\n",
    "imgUnseenTrainLoc = \"./Unseen-dataset/TrainingSet/\"\n",
    "imgUnseenTestLoc = \"./Unseen-dataset/ValidationSet/\"\n",
    "trainUnseenImgsList = os.listdir(imgUnseenTrainLoc)\n",
    "testUnseenImgsList = os.listdir(imgUnseenTestLoc)\n",
    "#trainUnseenImgsList.sort()\n",
    "#testUnseenImgsList.sort()\n",
    "\n",
    "\n",
    "trainUnseenImgs = []\n",
    "for i in range(len(trainUnseenImgsList)):\n",
    "    trainUnseenImgs.append((cv.imread(imgUnseenTrainLoc+trainUnseenImgsList[i],0).astype('float')/255).reshape((64,64,1)))\n",
    "trainUnseenImgs = np.asarray(trainUnseenImgs)\n",
    "trainUnseenImgs.shape\n",
    "\n",
    "testUnseenImgs = []\n",
    "for i in range(len(testUnseenImgsList)):\n",
    "    testUnseenImgs.append((cv.imread(imgUnseenTestLoc+testUnseenImgsList[i],0).astype('float')/255).reshape((64,64,1)))\n",
    "testUnseenImgs = np.asarray(testUnseenImgs)\n",
    "testUnseenImgs.shape"
   ]
  },
  {
   "cell_type": "code",
   "execution_count": null,
   "metadata": {
    "ExecuteTime": {
     "end_time": "2019-04-04T07:16:30.052453Z",
     "start_time": "2019-04-04T07:16:30.029749Z"
    }
   },
   "outputs": [],
   "source": []
  },
  {
   "cell_type": "code",
   "execution_count": 5,
   "metadata": {
    "ExecuteTime": {
     "end_time": "2019-04-08T11:48:53.455100Z",
     "start_time": "2019-04-08T11:48:53.439475Z"
    }
   },
   "outputs": [],
   "source": [
    "def getModel():\n",
    "    imDim = 64\n",
    "    input_shape  = (imDim,imDim,1)\n",
    "    inp_img = Input(shape = (imDim,imDim,1), name = 'ImageInput')\n",
    "    model = inp_img\n",
    "\n",
    "    #     model = Input(shape=(imDim,imDim,1))\n",
    "    #     model.add(Input(shape = (imDim,imDim,1), name = 'FeatureNet_ImageInput'))\n",
    "    model = Conv2D(32,kernel_size=(3, 3),activation='relu',input_shape=input_shape,padding='valid')(model)\n",
    "    #     model.add(Conv2D(64, (3, 3), activation='relu', padding='same'))\n",
    "    model = MaxPooling2D((2,2), padding='valid')(model)\n",
    "    model = Conv2D(64, (3, 3), activation='relu',padding='valid')(model)\n",
    "    #     model.add(Conv2D(32, (3, 3), activation='relu',padding='same'))\n",
    "    model = MaxPooling2D((2,2),padding='valid')(model)\n",
    "    #     model.add(Conv2D(16, (3, 3), activation='relu',padding='same'))\n",
    "    model = Conv2D(128, (3, 3), activation='relu',padding='valid')(model)\n",
    "    model = MaxPooling2D((2,2),padding='valid')(model)\n",
    "    #     model.add(Conv2D(1, (3, 3), activation='relu',padding='same'))\n",
    "    #     model.add(Conv2D(2, (3, 3), activation='relu',padding='same'))\n",
    "\n",
    "    model = Conv2D(256, (1, 1), activation='relu',padding='valid')(model)\n",
    "    model = MaxPooling2D((2,2),padding='valid')(model)\n",
    "\n",
    "    model = Conv2D(64, (1, 1), activation='relu',padding='valid')(model)\n",
    "    # model = MaxPooling2D((2,2),padding='valid')(model)\n",
    "    model = Flatten()(model)\n",
    "\n",
    "    # img_in = np.array((-1,imDim,imDim,1), dtype='float32')\n",
    "    # img_in = tf.placeholder(shape=(imDim,imDim,1), dtype='float32')\n",
    "\n",
    "    feat = Model(inputs=[inp_img], outputs=[model],name = 'Feat_Model')\n",
    "    feat.summary()\n",
    "\n",
    "\n",
    "    # In[27]:\n",
    "\n",
    "    left_img = Input(shape = (imDim,imDim,1), name = 'left_img')\n",
    "    right_img = Input(shape = (imDim,imDim,1), name = 'right_img')\n",
    "\n",
    "\n",
    "    # In[28]:\n",
    "\n",
    "    left_feats = feat(left_img)\n",
    "    right_feats = feat(right_img)\n",
    "\n",
    "\n",
    "    # In[35]:\n",
    "\n",
    "    from keras.layers import concatenate\n",
    "    import random\n",
    "\n",
    "\n",
    "    # In[36]:\n",
    "\n",
    "    merged_feats = concatenate([left_feats, right_feats], name = 'concat_feats')\n",
    "    merged_feats = Dense(1024, activation = 'linear')(merged_feats)\n",
    "    merged_feats = BatchNormalization()(merged_feats)\n",
    "    merged_feats = Activation('relu')(merged_feats)\n",
    "    merged_feats = Dense(4, activation = 'linear')(merged_feats)\n",
    "    merged_feats = BatchNormalization()(merged_feats)\n",
    "    merged_feats = Activation('relu')(merged_feats)\n",
    "    merged_feats = Dense(1, activation = 'sigmoid')(merged_feats)\n",
    "    similarity_model = Model(inputs = [left_img, right_img], outputs = [merged_feats], name = 'Similarity_Model')\n",
    "    \n",
    "    return similarity_model"
   ]
  },
  {
   "cell_type": "markdown",
   "metadata": {},
   "source": [
    "## AutoEncoder Model"
   ]
  },
  {
   "cell_type": "code",
   "execution_count": 6,
   "metadata": {
    "ExecuteTime": {
     "end_time": "2019-04-08T11:48:54.253806Z",
     "start_time": "2019-04-08T11:48:53.727417Z"
    },
    "scrolled": false
   },
   "outputs": [
    {
     "name": "stdout",
     "output_type": "stream",
     "text": [
      "WARNING:tensorflow:From /Users/akash/anaconda3/lib/python3.7/site-packages/tensorflow/python/framework/op_def_library.py:263: colocate_with (from tensorflow.python.framework.ops) is deprecated and will be removed in a future version.\n",
      "Instructions for updating:\n",
      "Colocations handled automatically by placer.\n"
     ]
    },
    {
     "data": {
      "image/svg+xml": [
       "<svg height=\"1511pt\" viewBox=\"0.00 0.00 393.93 1511.00\" width=\"394pt\" xmlns=\"http://www.w3.org/2000/svg\" xmlns:xlink=\"http://www.w3.org/1999/xlink\">\n",
       "<g class=\"graph\" id=\"graph0\" transform=\"scale(1 1) rotate(0) translate(4 1507)\">\n",
       "<title>G</title>\n",
       "<polygon fill=\"#ffffff\" points=\"-4,4 -4,-1507 389.9277,-1507 389.9277,4 -4,4\" stroke=\"transparent\"/>\n",
       "<!-- 48170958016 -->\n",
       "<g class=\"node\" id=\"node1\">\n",
       "<title>48170958016</title>\n",
       "<polygon fill=\"none\" points=\"45.124,-1458.5 45.124,-1502.5 340.8037,-1502.5 340.8037,-1458.5 45.124,-1458.5\" stroke=\"#000000\"/>\n",
       "<text fill=\"#000000\" font-family=\"Times,serif\" font-size=\"14.00\" text-anchor=\"middle\" x=\"109.3052\" y=\"-1476.3\">input_1: InputLayer</text>\n",
       "<polyline fill=\"none\" points=\"173.4863,-1458.5 173.4863,-1502.5 \" stroke=\"#000000\"/>\n",
       "<text fill=\"#000000\" font-family=\"Times,serif\" font-size=\"14.00\" text-anchor=\"middle\" x=\"201.3208\" y=\"-1487.3\">input:</text>\n",
       "<polyline fill=\"none\" points=\"173.4863,-1480.5 229.1553,-1480.5 \" stroke=\"#000000\"/>\n",
       "<text fill=\"#000000\" font-family=\"Times,serif\" font-size=\"14.00\" text-anchor=\"middle\" x=\"201.3208\" y=\"-1465.3\">output:</text>\n",
       "<polyline fill=\"none\" points=\"229.1553,-1458.5 229.1553,-1502.5 \" stroke=\"#000000\"/>\n",
       "<text fill=\"#000000\" font-family=\"Times,serif\" font-size=\"14.00\" text-anchor=\"middle\" x=\"284.9795\" y=\"-1487.3\">(None, 64, 64, 1)</text>\n",
       "<polyline fill=\"none\" points=\"229.1553,-1480.5 340.8037,-1480.5 \" stroke=\"#000000\"/>\n",
       "<text fill=\"#000000\" font-family=\"Times,serif\" font-size=\"14.00\" text-anchor=\"middle\" x=\"284.9795\" y=\"-1465.3\">(None, 64, 64, 1)</text>\n",
       "</g>\n",
       "<!-- 48170957960 -->\n",
       "<g class=\"node\" id=\"node2\">\n",
       "<title>48170957960</title>\n",
       "<polygon fill=\"none\" points=\"42.7793,-1377.5 42.7793,-1421.5 343.1484,-1421.5 343.1484,-1377.5 42.7793,-1377.5\" stroke=\"#000000\"/>\n",
       "<text fill=\"#000000\" font-family=\"Times,serif\" font-size=\"14.00\" text-anchor=\"middle\" x=\"105.8052\" y=\"-1395.3\">conv2d_1: Conv2D</text>\n",
       "<polyline fill=\"none\" points=\"168.8311,-1377.5 168.8311,-1421.5 \" stroke=\"#000000\"/>\n",
       "<text fill=\"#000000\" font-family=\"Times,serif\" font-size=\"14.00\" text-anchor=\"middle\" x=\"196.6655\" y=\"-1406.3\">input:</text>\n",
       "<polyline fill=\"none\" points=\"168.8311,-1399.5 224.5,-1399.5 \" stroke=\"#000000\"/>\n",
       "<text fill=\"#000000\" font-family=\"Times,serif\" font-size=\"14.00\" text-anchor=\"middle\" x=\"196.6655\" y=\"-1384.3\">output:</text>\n",
       "<polyline fill=\"none\" points=\"224.5,-1377.5 224.5,-1421.5 \" stroke=\"#000000\"/>\n",
       "<text fill=\"#000000\" font-family=\"Times,serif\" font-size=\"14.00\" text-anchor=\"middle\" x=\"283.8242\" y=\"-1406.3\">(None, 64, 64, 1)</text>\n",
       "<polyline fill=\"none\" points=\"224.5,-1399.5 343.1484,-1399.5 \" stroke=\"#000000\"/>\n",
       "<text fill=\"#000000\" font-family=\"Times,serif\" font-size=\"14.00\" text-anchor=\"middle\" x=\"283.8242\" y=\"-1384.3\">(None, 64, 64, 16)</text>\n",
       "</g>\n",
       "<!-- 48170958016&#45;&gt;48170957960 -->\n",
       "<g class=\"edge\" id=\"edge1\">\n",
       "<title>48170958016-&gt;48170957960</title>\n",
       "<path d=\"M192.9639,-1458.3664C192.9639,-1450.1516 192.9639,-1440.6579 192.9639,-1431.7252\" fill=\"none\" stroke=\"#000000\"/>\n",
       "<polygon fill=\"#000000\" points=\"196.464,-1431.6068 192.9639,-1421.6068 189.464,-1431.6069 196.464,-1431.6068\" stroke=\"#000000\"/>\n",
       "</g>\n",
       "<!-- 48170885920 -->\n",
       "<g class=\"node\" id=\"node3\">\n",
       "<title>48170885920</title>\n",
       "<polygon fill=\"none\" points=\"0,-1296.5 0,-1340.5 385.9277,-1340.5 385.9277,-1296.5 0,-1296.5\" stroke=\"#000000\"/>\n",
       "<text fill=\"#000000\" font-family=\"Times,serif\" font-size=\"14.00\" text-anchor=\"middle\" x=\"105.8052\" y=\"-1314.3\">max_pooling2d_1: MaxPooling2D</text>\n",
       "<polyline fill=\"none\" points=\"211.6104,-1296.5 211.6104,-1340.5 \" stroke=\"#000000\"/>\n",
       "<text fill=\"#000000\" font-family=\"Times,serif\" font-size=\"14.00\" text-anchor=\"middle\" x=\"239.4448\" y=\"-1325.3\">input:</text>\n",
       "<polyline fill=\"none\" points=\"211.6104,-1318.5 267.2793,-1318.5 \" stroke=\"#000000\"/>\n",
       "<text fill=\"#000000\" font-family=\"Times,serif\" font-size=\"14.00\" text-anchor=\"middle\" x=\"239.4448\" y=\"-1303.3\">output:</text>\n",
       "<polyline fill=\"none\" points=\"267.2793,-1296.5 267.2793,-1340.5 \" stroke=\"#000000\"/>\n",
       "<text fill=\"#000000\" font-family=\"Times,serif\" font-size=\"14.00\" text-anchor=\"middle\" x=\"326.6035\" y=\"-1325.3\">(None, 64, 64, 16)</text>\n",
       "<polyline fill=\"none\" points=\"267.2793,-1318.5 385.9277,-1318.5 \" stroke=\"#000000\"/>\n",
       "<text fill=\"#000000\" font-family=\"Times,serif\" font-size=\"14.00\" text-anchor=\"middle\" x=\"326.6035\" y=\"-1303.3\">(None, 32, 32, 16)</text>\n",
       "</g>\n",
       "<!-- 48170957960&#45;&gt;48170885920 -->\n",
       "<g class=\"edge\" id=\"edge2\">\n",
       "<title>48170957960-&gt;48170885920</title>\n",
       "<path d=\"M192.9639,-1377.3664C192.9639,-1369.1516 192.9639,-1359.6579 192.9639,-1350.7252\" fill=\"none\" stroke=\"#000000\"/>\n",
       "<polygon fill=\"#000000\" points=\"196.464,-1350.6068 192.9639,-1340.6068 189.464,-1350.6069 196.464,-1350.6068\" stroke=\"#000000\"/>\n",
       "</g>\n",
       "<!-- 48170886256 -->\n",
       "<g class=\"node\" id=\"node4\">\n",
       "<title>48170886256</title>\n",
       "<polygon fill=\"none\" points=\"42.7793,-1215.5 42.7793,-1259.5 343.1484,-1259.5 343.1484,-1215.5 42.7793,-1215.5\" stroke=\"#000000\"/>\n",
       "<text fill=\"#000000\" font-family=\"Times,serif\" font-size=\"14.00\" text-anchor=\"middle\" x=\"105.8052\" y=\"-1233.3\">conv2d_2: Conv2D</text>\n",
       "<polyline fill=\"none\" points=\"168.8311,-1215.5 168.8311,-1259.5 \" stroke=\"#000000\"/>\n",
       "<text fill=\"#000000\" font-family=\"Times,serif\" font-size=\"14.00\" text-anchor=\"middle\" x=\"196.6655\" y=\"-1244.3\">input:</text>\n",
       "<polyline fill=\"none\" points=\"168.8311,-1237.5 224.5,-1237.5 \" stroke=\"#000000\"/>\n",
       "<text fill=\"#000000\" font-family=\"Times,serif\" font-size=\"14.00\" text-anchor=\"middle\" x=\"196.6655\" y=\"-1222.3\">output:</text>\n",
       "<polyline fill=\"none\" points=\"224.5,-1215.5 224.5,-1259.5 \" stroke=\"#000000\"/>\n",
       "<text fill=\"#000000\" font-family=\"Times,serif\" font-size=\"14.00\" text-anchor=\"middle\" x=\"283.8242\" y=\"-1244.3\">(None, 32, 32, 16)</text>\n",
       "<polyline fill=\"none\" points=\"224.5,-1237.5 343.1484,-1237.5 \" stroke=\"#000000\"/>\n",
       "<text fill=\"#000000\" font-family=\"Times,serif\" font-size=\"14.00\" text-anchor=\"middle\" x=\"283.8242\" y=\"-1222.3\">(None, 32, 32, 8)</text>\n",
       "</g>\n",
       "<!-- 48170885920&#45;&gt;48170886256 -->\n",
       "<g class=\"edge\" id=\"edge3\">\n",
       "<title>48170885920-&gt;48170886256</title>\n",
       "<path d=\"M192.9639,-1296.3664C192.9639,-1288.1516 192.9639,-1278.6579 192.9639,-1269.7252\" fill=\"none\" stroke=\"#000000\"/>\n",
       "<polygon fill=\"#000000\" points=\"196.464,-1269.6068 192.9639,-1259.6068 189.464,-1269.6069 196.464,-1269.6068\" stroke=\"#000000\"/>\n",
       "</g>\n",
       "<!-- 48170886312 -->\n",
       "<g class=\"node\" id=\"node5\">\n",
       "<title>48170886312</title>\n",
       "<polygon fill=\"none\" points=\"3.5,-1134.5 3.5,-1178.5 382.4277,-1178.5 382.4277,-1134.5 3.5,-1134.5\" stroke=\"#000000\"/>\n",
       "<text fill=\"#000000\" font-family=\"Times,serif\" font-size=\"14.00\" text-anchor=\"middle\" x=\"109.3052\" y=\"-1152.3\">max_pooling2d_2: MaxPooling2D</text>\n",
       "<polyline fill=\"none\" points=\"215.1104,-1134.5 215.1104,-1178.5 \" stroke=\"#000000\"/>\n",
       "<text fill=\"#000000\" font-family=\"Times,serif\" font-size=\"14.00\" text-anchor=\"middle\" x=\"242.9448\" y=\"-1163.3\">input:</text>\n",
       "<polyline fill=\"none\" points=\"215.1104,-1156.5 270.7793,-1156.5 \" stroke=\"#000000\"/>\n",
       "<text fill=\"#000000\" font-family=\"Times,serif\" font-size=\"14.00\" text-anchor=\"middle\" x=\"242.9448\" y=\"-1141.3\">output:</text>\n",
       "<polyline fill=\"none\" points=\"270.7793,-1134.5 270.7793,-1178.5 \" stroke=\"#000000\"/>\n",
       "<text fill=\"#000000\" font-family=\"Times,serif\" font-size=\"14.00\" text-anchor=\"middle\" x=\"326.6035\" y=\"-1163.3\">(None, 32, 32, 8)</text>\n",
       "<polyline fill=\"none\" points=\"270.7793,-1156.5 382.4277,-1156.5 \" stroke=\"#000000\"/>\n",
       "<text fill=\"#000000\" font-family=\"Times,serif\" font-size=\"14.00\" text-anchor=\"middle\" x=\"326.6035\" y=\"-1141.3\">(None, 16, 16, 8)</text>\n",
       "</g>\n",
       "<!-- 48170886256&#45;&gt;48170886312 -->\n",
       "<g class=\"edge\" id=\"edge4\">\n",
       "<title>48170886256-&gt;48170886312</title>\n",
       "<path d=\"M192.9639,-1215.3664C192.9639,-1207.1516 192.9639,-1197.6579 192.9639,-1188.7252\" fill=\"none\" stroke=\"#000000\"/>\n",
       "<polygon fill=\"#000000\" points=\"196.464,-1188.6068 192.9639,-1178.6068 189.464,-1188.6069 196.464,-1188.6068\" stroke=\"#000000\"/>\n",
       "</g>\n",
       "<!-- 48190939432 -->\n",
       "<g class=\"node\" id=\"node6\">\n",
       "<title>48190939432</title>\n",
       "<polygon fill=\"none\" points=\"46.2793,-1053.5 46.2793,-1097.5 339.6484,-1097.5 339.6484,-1053.5 46.2793,-1053.5\" stroke=\"#000000\"/>\n",
       "<text fill=\"#000000\" font-family=\"Times,serif\" font-size=\"14.00\" text-anchor=\"middle\" x=\"109.3052\" y=\"-1071.3\">conv2d_3: Conv2D</text>\n",
       "<polyline fill=\"none\" points=\"172.3311,-1053.5 172.3311,-1097.5 \" stroke=\"#000000\"/>\n",
       "<text fill=\"#000000\" font-family=\"Times,serif\" font-size=\"14.00\" text-anchor=\"middle\" x=\"200.1655\" y=\"-1082.3\">input:</text>\n",
       "<polyline fill=\"none\" points=\"172.3311,-1075.5 228,-1075.5 \" stroke=\"#000000\"/>\n",
       "<text fill=\"#000000\" font-family=\"Times,serif\" font-size=\"14.00\" text-anchor=\"middle\" x=\"200.1655\" y=\"-1060.3\">output:</text>\n",
       "<polyline fill=\"none\" points=\"228,-1053.5 228,-1097.5 \" stroke=\"#000000\"/>\n",
       "<text fill=\"#000000\" font-family=\"Times,serif\" font-size=\"14.00\" text-anchor=\"middle\" x=\"283.8242\" y=\"-1082.3\">(None, 16, 16, 8)</text>\n",
       "<polyline fill=\"none\" points=\"228,-1075.5 339.6484,-1075.5 \" stroke=\"#000000\"/>\n",
       "<text fill=\"#000000\" font-family=\"Times,serif\" font-size=\"14.00\" text-anchor=\"middle\" x=\"283.8242\" y=\"-1060.3\">(None, 16, 16, 4)</text>\n",
       "</g>\n",
       "<!-- 48170886312&#45;&gt;48190939432 -->\n",
       "<g class=\"edge\" id=\"edge5\">\n",
       "<title>48170886312-&gt;48190939432</title>\n",
       "<path d=\"M192.9639,-1134.3664C192.9639,-1126.1516 192.9639,-1116.6579 192.9639,-1107.7252\" fill=\"none\" stroke=\"#000000\"/>\n",
       "<polygon fill=\"#000000\" points=\"196.464,-1107.6068 192.9639,-1097.6068 189.464,-1107.6069 196.464,-1107.6068\" stroke=\"#000000\"/>\n",
       "</g>\n",
       "<!-- 48190939488 -->\n",
       "<g class=\"node\" id=\"node7\">\n",
       "<title>48190939488</title>\n",
       "<polygon fill=\"none\" points=\"3.5,-972.5 3.5,-1016.5 382.4277,-1016.5 382.4277,-972.5 3.5,-972.5\" stroke=\"#000000\"/>\n",
       "<text fill=\"#000000\" font-family=\"Times,serif\" font-size=\"14.00\" text-anchor=\"middle\" x=\"109.3052\" y=\"-990.3\">max_pooling2d_3: MaxPooling2D</text>\n",
       "<polyline fill=\"none\" points=\"215.1104,-972.5 215.1104,-1016.5 \" stroke=\"#000000\"/>\n",
       "<text fill=\"#000000\" font-family=\"Times,serif\" font-size=\"14.00\" text-anchor=\"middle\" x=\"242.9448\" y=\"-1001.3\">input:</text>\n",
       "<polyline fill=\"none\" points=\"215.1104,-994.5 270.7793,-994.5 \" stroke=\"#000000\"/>\n",
       "<text fill=\"#000000\" font-family=\"Times,serif\" font-size=\"14.00\" text-anchor=\"middle\" x=\"242.9448\" y=\"-979.3\">output:</text>\n",
       "<polyline fill=\"none\" points=\"270.7793,-972.5 270.7793,-1016.5 \" stroke=\"#000000\"/>\n",
       "<text fill=\"#000000\" font-family=\"Times,serif\" font-size=\"14.00\" text-anchor=\"middle\" x=\"326.6035\" y=\"-1001.3\">(None, 16, 16, 4)</text>\n",
       "<polyline fill=\"none\" points=\"270.7793,-994.5 382.4277,-994.5 \" stroke=\"#000000\"/>\n",
       "<text fill=\"#000000\" font-family=\"Times,serif\" font-size=\"14.00\" text-anchor=\"middle\" x=\"326.6035\" y=\"-979.3\">(None, 8, 8, 4)</text>\n",
       "</g>\n",
       "<!-- 48190939432&#45;&gt;48190939488 -->\n",
       "<g class=\"edge\" id=\"edge6\">\n",
       "<title>48190939432-&gt;48190939488</title>\n",
       "<path d=\"M192.9639,-1053.3664C192.9639,-1045.1516 192.9639,-1035.6579 192.9639,-1026.7252\" fill=\"none\" stroke=\"#000000\"/>\n",
       "<polygon fill=\"#000000\" points=\"196.464,-1026.6068 192.9639,-1016.6068 189.464,-1026.6069 196.464,-1026.6068\" stroke=\"#000000\"/>\n",
       "</g>\n",
       "<!-- 48177355408 -->\n",
       "<g class=\"node\" id=\"node8\">\n",
       "<title>48177355408</title>\n",
       "<polygon fill=\"none\" points=\"53.2793,-891.5 53.2793,-935.5 332.6484,-935.5 332.6484,-891.5 53.2793,-891.5\" stroke=\"#000000\"/>\n",
       "<text fill=\"#000000\" font-family=\"Times,serif\" font-size=\"14.00\" text-anchor=\"middle\" x=\"116.3052\" y=\"-909.3\">conv2d_4: Conv2D</text>\n",
       "<polyline fill=\"none\" points=\"179.3311,-891.5 179.3311,-935.5 \" stroke=\"#000000\"/>\n",
       "<text fill=\"#000000\" font-family=\"Times,serif\" font-size=\"14.00\" text-anchor=\"middle\" x=\"207.1655\" y=\"-920.3\">input:</text>\n",
       "<polyline fill=\"none\" points=\"179.3311,-913.5 235,-913.5 \" stroke=\"#000000\"/>\n",
       "<text fill=\"#000000\" font-family=\"Times,serif\" font-size=\"14.00\" text-anchor=\"middle\" x=\"207.1655\" y=\"-898.3\">output:</text>\n",
       "<polyline fill=\"none\" points=\"235,-891.5 235,-935.5 \" stroke=\"#000000\"/>\n",
       "<text fill=\"#000000\" font-family=\"Times,serif\" font-size=\"14.00\" text-anchor=\"middle\" x=\"283.8242\" y=\"-920.3\">(None, 8, 8, 4)</text>\n",
       "<polyline fill=\"none\" points=\"235,-913.5 332.6484,-913.5 \" stroke=\"#000000\"/>\n",
       "<text fill=\"#000000\" font-family=\"Times,serif\" font-size=\"14.00\" text-anchor=\"middle\" x=\"283.8242\" y=\"-898.3\">(None, 8, 8, 4)</text>\n",
       "</g>\n",
       "<!-- 48190939488&#45;&gt;48177355408 -->\n",
       "<g class=\"edge\" id=\"edge7\">\n",
       "<title>48190939488-&gt;48177355408</title>\n",
       "<path d=\"M192.9639,-972.3664C192.9639,-964.1516 192.9639,-954.6579 192.9639,-945.7252\" fill=\"none\" stroke=\"#000000\"/>\n",
       "<polygon fill=\"#000000\" points=\"196.464,-945.6068 192.9639,-935.6068 189.464,-945.6069 196.464,-945.6068\" stroke=\"#000000\"/>\n",
       "</g>\n",
       "<!-- 48177356024 -->\n",
       "<g class=\"node\" id=\"node9\">\n",
       "<title>48177356024</title>\n",
       "<polygon fill=\"none\" points=\"10.5,-810.5 10.5,-854.5 375.4277,-854.5 375.4277,-810.5 10.5,-810.5\" stroke=\"#000000\"/>\n",
       "<text fill=\"#000000\" font-family=\"Times,serif\" font-size=\"14.00\" text-anchor=\"middle\" x=\"116.3052\" y=\"-828.3\">max_pooling2d_4: MaxPooling2D</text>\n",
       "<polyline fill=\"none\" points=\"222.1104,-810.5 222.1104,-854.5 \" stroke=\"#000000\"/>\n",
       "<text fill=\"#000000\" font-family=\"Times,serif\" font-size=\"14.00\" text-anchor=\"middle\" x=\"249.9448\" y=\"-839.3\">input:</text>\n",
       "<polyline fill=\"none\" points=\"222.1104,-832.5 277.7793,-832.5 \" stroke=\"#000000\"/>\n",
       "<text fill=\"#000000\" font-family=\"Times,serif\" font-size=\"14.00\" text-anchor=\"middle\" x=\"249.9448\" y=\"-817.3\">output:</text>\n",
       "<polyline fill=\"none\" points=\"277.7793,-810.5 277.7793,-854.5 \" stroke=\"#000000\"/>\n",
       "<text fill=\"#000000\" font-family=\"Times,serif\" font-size=\"14.00\" text-anchor=\"middle\" x=\"326.6035\" y=\"-839.3\">(None, 8, 8, 4)</text>\n",
       "<polyline fill=\"none\" points=\"277.7793,-832.5 375.4277,-832.5 \" stroke=\"#000000\"/>\n",
       "<text fill=\"#000000\" font-family=\"Times,serif\" font-size=\"14.00\" text-anchor=\"middle\" x=\"326.6035\" y=\"-817.3\">(None, 4, 4, 4)</text>\n",
       "</g>\n",
       "<!-- 48177355408&#45;&gt;48177356024 -->\n",
       "<g class=\"edge\" id=\"edge8\">\n",
       "<title>48177355408-&gt;48177356024</title>\n",
       "<path d=\"M192.9639,-891.3664C192.9639,-883.1516 192.9639,-873.6579 192.9639,-864.7252\" fill=\"none\" stroke=\"#000000\"/>\n",
       "<polygon fill=\"#000000\" points=\"196.464,-864.6068 192.9639,-854.6068 189.464,-864.6069 196.464,-864.6068\" stroke=\"#000000\"/>\n",
       "</g>\n",
       "<!-- 48177586640 -->\n",
       "<g class=\"node\" id=\"node10\">\n",
       "<title>48177586640</title>\n",
       "<polygon fill=\"none\" points=\"60.6724,-729.5 60.6724,-773.5 325.2554,-773.5 325.2554,-729.5 60.6724,-729.5\" stroke=\"#000000\"/>\n",
       "<text fill=\"#000000\" font-family=\"Times,serif\" font-size=\"14.00\" text-anchor=\"middle\" x=\"116.3052\" y=\"-747.3\">flatten_1: Flatten</text>\n",
       "<polyline fill=\"none\" points=\"171.938,-729.5 171.938,-773.5 \" stroke=\"#000000\"/>\n",
       "<text fill=\"#000000\" font-family=\"Times,serif\" font-size=\"14.00\" text-anchor=\"middle\" x=\"199.7725\" y=\"-758.3\">input:</text>\n",
       "<polyline fill=\"none\" points=\"171.938,-751.5 227.6069,-751.5 \" stroke=\"#000000\"/>\n",
       "<text fill=\"#000000\" font-family=\"Times,serif\" font-size=\"14.00\" text-anchor=\"middle\" x=\"199.7725\" y=\"-736.3\">output:</text>\n",
       "<polyline fill=\"none\" points=\"227.6069,-729.5 227.6069,-773.5 \" stroke=\"#000000\"/>\n",
       "<text fill=\"#000000\" font-family=\"Times,serif\" font-size=\"14.00\" text-anchor=\"middle\" x=\"276.4312\" y=\"-758.3\">(None, 4, 4, 4)</text>\n",
       "<polyline fill=\"none\" points=\"227.6069,-751.5 325.2554,-751.5 \" stroke=\"#000000\"/>\n",
       "<text fill=\"#000000\" font-family=\"Times,serif\" font-size=\"14.00\" text-anchor=\"middle\" x=\"276.4312\" y=\"-736.3\">(None, 64)</text>\n",
       "</g>\n",
       "<!-- 48177356024&#45;&gt;48177586640 -->\n",
       "<g class=\"edge\" id=\"edge9\">\n",
       "<title>48177356024-&gt;48177586640</title>\n",
       "<path d=\"M192.9639,-810.3664C192.9639,-802.1516 192.9639,-792.6579 192.9639,-783.7252\" fill=\"none\" stroke=\"#000000\"/>\n",
       "<polygon fill=\"#000000\" points=\"196.464,-783.6068 192.9639,-773.6068 189.464,-783.6069 196.464,-783.6068\" stroke=\"#000000\"/>\n",
       "</g>\n",
       "<!-- 48177587984 -->\n",
       "<g class=\"node\" id=\"node11\">\n",
       "<title>48177587984</title>\n",
       "<polygon fill=\"none\" points=\"78.5688,-648.5 78.5688,-692.5 307.3589,-692.5 307.3589,-648.5 78.5688,-648.5\" stroke=\"#000000\"/>\n",
       "<text fill=\"#000000\" font-family=\"Times,serif\" font-size=\"14.00\" text-anchor=\"middle\" x=\"123.3052\" y=\"-666.3\">latent: Dense</text>\n",
       "<polyline fill=\"none\" points=\"168.0415,-648.5 168.0415,-692.5 \" stroke=\"#000000\"/>\n",
       "<text fill=\"#000000\" font-family=\"Times,serif\" font-size=\"14.00\" text-anchor=\"middle\" x=\"195.876\" y=\"-677.3\">input:</text>\n",
       "<polyline fill=\"none\" points=\"168.0415,-670.5 223.7104,-670.5 \" stroke=\"#000000\"/>\n",
       "<text fill=\"#000000\" font-family=\"Times,serif\" font-size=\"14.00\" text-anchor=\"middle\" x=\"195.876\" y=\"-655.3\">output:</text>\n",
       "<polyline fill=\"none\" points=\"223.7104,-648.5 223.7104,-692.5 \" stroke=\"#000000\"/>\n",
       "<text fill=\"#000000\" font-family=\"Times,serif\" font-size=\"14.00\" text-anchor=\"middle\" x=\"265.5347\" y=\"-677.3\">(None, 64)</text>\n",
       "<polyline fill=\"none\" points=\"223.7104,-670.5 307.3589,-670.5 \" stroke=\"#000000\"/>\n",
       "<text fill=\"#000000\" font-family=\"Times,serif\" font-size=\"14.00\" text-anchor=\"middle\" x=\"265.5347\" y=\"-655.3\">(None, 256)</text>\n",
       "</g>\n",
       "<!-- 48177586640&#45;&gt;48177587984 -->\n",
       "<g class=\"edge\" id=\"edge10\">\n",
       "<title>48177586640-&gt;48177587984</title>\n",
       "<path d=\"M192.9639,-729.3664C192.9639,-721.1516 192.9639,-711.6579 192.9639,-702.7252\" fill=\"none\" stroke=\"#000000\"/>\n",
       "<polygon fill=\"#000000\" points=\"196.464,-702.6068 192.9639,-692.6068 189.464,-702.6069 196.464,-702.6068\" stroke=\"#000000\"/>\n",
       "</g>\n",
       "<!-- 48177658232 -->\n",
       "<g class=\"node\" id=\"node12\">\n",
       "<title>48177658232</title>\n",
       "<polygon fill=\"none\" points=\"52.5205,-567.5 52.5205,-611.5 333.4072,-611.5 333.4072,-567.5 52.5205,-567.5\" stroke=\"#000000\"/>\n",
       "<text fill=\"#000000\" font-family=\"Times,serif\" font-size=\"14.00\" text-anchor=\"middle\" x=\"116.3052\" y=\"-585.3\">reshape_1: Reshape</text>\n",
       "<polyline fill=\"none\" points=\"180.0898,-567.5 180.0898,-611.5 \" stroke=\"#000000\"/>\n",
       "<text fill=\"#000000\" font-family=\"Times,serif\" font-size=\"14.00\" text-anchor=\"middle\" x=\"207.9243\" y=\"-596.3\">input:</text>\n",
       "<polyline fill=\"none\" points=\"180.0898,-589.5 235.7588,-589.5 \" stroke=\"#000000\"/>\n",
       "<text fill=\"#000000\" font-family=\"Times,serif\" font-size=\"14.00\" text-anchor=\"middle\" x=\"207.9243\" y=\"-574.3\">output:</text>\n",
       "<polyline fill=\"none\" points=\"235.7588,-567.5 235.7588,-611.5 \" stroke=\"#000000\"/>\n",
       "<text fill=\"#000000\" font-family=\"Times,serif\" font-size=\"14.00\" text-anchor=\"middle\" x=\"284.583\" y=\"-596.3\">(None, 256)</text>\n",
       "<polyline fill=\"none\" points=\"235.7588,-589.5 333.4072,-589.5 \" stroke=\"#000000\"/>\n",
       "<text fill=\"#000000\" font-family=\"Times,serif\" font-size=\"14.00\" text-anchor=\"middle\" x=\"284.583\" y=\"-574.3\">(None, 8, 8, 4)</text>\n",
       "</g>\n",
       "<!-- 48177587984&#45;&gt;48177658232 -->\n",
       "<g class=\"edge\" id=\"edge11\">\n",
       "<title>48177587984-&gt;48177658232</title>\n",
       "<path d=\"M192.9639,-648.3664C192.9639,-640.1516 192.9639,-630.6579 192.9639,-621.7252\" fill=\"none\" stroke=\"#000000\"/>\n",
       "<polygon fill=\"#000000\" points=\"196.464,-621.6068 192.9639,-611.6068 189.464,-621.6069 196.464,-621.6068\" stroke=\"#000000\"/>\n",
       "</g>\n",
       "<!-- 48177792336 -->\n",
       "<g class=\"node\" id=\"node13\">\n",
       "<title>48177792336</title>\n",
       "<polygon fill=\"none\" points=\"53.2793,-486.5 53.2793,-530.5 332.6484,-530.5 332.6484,-486.5 53.2793,-486.5\" stroke=\"#000000\"/>\n",
       "<text fill=\"#000000\" font-family=\"Times,serif\" font-size=\"14.00\" text-anchor=\"middle\" x=\"116.3052\" y=\"-504.3\">conv2d_5: Conv2D</text>\n",
       "<polyline fill=\"none\" points=\"179.3311,-486.5 179.3311,-530.5 \" stroke=\"#000000\"/>\n",
       "<text fill=\"#000000\" font-family=\"Times,serif\" font-size=\"14.00\" text-anchor=\"middle\" x=\"207.1655\" y=\"-515.3\">input:</text>\n",
       "<polyline fill=\"none\" points=\"179.3311,-508.5 235,-508.5 \" stroke=\"#000000\"/>\n",
       "<text fill=\"#000000\" font-family=\"Times,serif\" font-size=\"14.00\" text-anchor=\"middle\" x=\"207.1655\" y=\"-493.3\">output:</text>\n",
       "<polyline fill=\"none\" points=\"235,-486.5 235,-530.5 \" stroke=\"#000000\"/>\n",
       "<text fill=\"#000000\" font-family=\"Times,serif\" font-size=\"14.00\" text-anchor=\"middle\" x=\"283.8242\" y=\"-515.3\">(None, 8, 8, 4)</text>\n",
       "<polyline fill=\"none\" points=\"235,-508.5 332.6484,-508.5 \" stroke=\"#000000\"/>\n",
       "<text fill=\"#000000\" font-family=\"Times,serif\" font-size=\"14.00\" text-anchor=\"middle\" x=\"283.8242\" y=\"-493.3\">(None, 8, 8, 4)</text>\n",
       "</g>\n",
       "<!-- 48177658232&#45;&gt;48177792336 -->\n",
       "<g class=\"edge\" id=\"edge12\">\n",
       "<title>48177658232-&gt;48177792336</title>\n",
       "<path d=\"M192.9639,-567.3664C192.9639,-559.1516 192.9639,-549.6579 192.9639,-540.7252\" fill=\"none\" stroke=\"#000000\"/>\n",
       "<polygon fill=\"#000000\" points=\"196.464,-540.6068 192.9639,-530.6068 189.464,-540.6069 196.464,-540.6068\" stroke=\"#000000\"/>\n",
       "</g>\n",
       "<!-- 48177657504 -->\n",
       "<g class=\"node\" id=\"node14\">\n",
       "<title>48177657504</title>\n",
       "<polygon fill=\"none\" points=\"3.5,-405.5 3.5,-449.5 382.4277,-449.5 382.4277,-405.5 3.5,-405.5\" stroke=\"#000000\"/>\n",
       "<text fill=\"#000000\" font-family=\"Times,serif\" font-size=\"14.00\" text-anchor=\"middle\" x=\"109.3052\" y=\"-423.3\">up_sampling2d_1: UpSampling2D</text>\n",
       "<polyline fill=\"none\" points=\"215.1104,-405.5 215.1104,-449.5 \" stroke=\"#000000\"/>\n",
       "<text fill=\"#000000\" font-family=\"Times,serif\" font-size=\"14.00\" text-anchor=\"middle\" x=\"242.9448\" y=\"-434.3\">input:</text>\n",
       "<polyline fill=\"none\" points=\"215.1104,-427.5 270.7793,-427.5 \" stroke=\"#000000\"/>\n",
       "<text fill=\"#000000\" font-family=\"Times,serif\" font-size=\"14.00\" text-anchor=\"middle\" x=\"242.9448\" y=\"-412.3\">output:</text>\n",
       "<polyline fill=\"none\" points=\"270.7793,-405.5 270.7793,-449.5 \" stroke=\"#000000\"/>\n",
       "<text fill=\"#000000\" font-family=\"Times,serif\" font-size=\"14.00\" text-anchor=\"middle\" x=\"326.6035\" y=\"-434.3\">(None, 8, 8, 4)</text>\n",
       "<polyline fill=\"none\" points=\"270.7793,-427.5 382.4277,-427.5 \" stroke=\"#000000\"/>\n",
       "<text fill=\"#000000\" font-family=\"Times,serif\" font-size=\"14.00\" text-anchor=\"middle\" x=\"326.6035\" y=\"-412.3\">(None, 16, 16, 4)</text>\n",
       "</g>\n",
       "<!-- 48177792336&#45;&gt;48177657504 -->\n",
       "<g class=\"edge\" id=\"edge13\">\n",
       "<title>48177792336-&gt;48177657504</title>\n",
       "<path d=\"M192.9639,-486.3664C192.9639,-478.1516 192.9639,-468.6579 192.9639,-459.7252\" fill=\"none\" stroke=\"#000000\"/>\n",
       "<polygon fill=\"#000000\" points=\"196.464,-459.6068 192.9639,-449.6068 189.464,-459.6069 196.464,-459.6068\" stroke=\"#000000\"/>\n",
       "</g>\n",
       "<!-- 48178031304 -->\n",
       "<g class=\"node\" id=\"node15\">\n",
       "<title>48178031304</title>\n",
       "<polygon fill=\"none\" points=\"46.2793,-324.5 46.2793,-368.5 339.6484,-368.5 339.6484,-324.5 46.2793,-324.5\" stroke=\"#000000\"/>\n",
       "<text fill=\"#000000\" font-family=\"Times,serif\" font-size=\"14.00\" text-anchor=\"middle\" x=\"109.3052\" y=\"-342.3\">conv2d_6: Conv2D</text>\n",
       "<polyline fill=\"none\" points=\"172.3311,-324.5 172.3311,-368.5 \" stroke=\"#000000\"/>\n",
       "<text fill=\"#000000\" font-family=\"Times,serif\" font-size=\"14.00\" text-anchor=\"middle\" x=\"200.1655\" y=\"-353.3\">input:</text>\n",
       "<polyline fill=\"none\" points=\"172.3311,-346.5 228,-346.5 \" stroke=\"#000000\"/>\n",
       "<text fill=\"#000000\" font-family=\"Times,serif\" font-size=\"14.00\" text-anchor=\"middle\" x=\"200.1655\" y=\"-331.3\">output:</text>\n",
       "<polyline fill=\"none\" points=\"228,-324.5 228,-368.5 \" stroke=\"#000000\"/>\n",
       "<text fill=\"#000000\" font-family=\"Times,serif\" font-size=\"14.00\" text-anchor=\"middle\" x=\"283.8242\" y=\"-353.3\">(None, 16, 16, 4)</text>\n",
       "<polyline fill=\"none\" points=\"228,-346.5 339.6484,-346.5 \" stroke=\"#000000\"/>\n",
       "<text fill=\"#000000\" font-family=\"Times,serif\" font-size=\"14.00\" text-anchor=\"middle\" x=\"283.8242\" y=\"-331.3\">(None, 16, 16, 8)</text>\n",
       "</g>\n",
       "<!-- 48177657504&#45;&gt;48178031304 -->\n",
       "<g class=\"edge\" id=\"edge14\">\n",
       "<title>48177657504-&gt;48178031304</title>\n",
       "<path d=\"M192.9639,-405.3664C192.9639,-397.1516 192.9639,-387.6579 192.9639,-378.7252\" fill=\"none\" stroke=\"#000000\"/>\n",
       "<polygon fill=\"#000000\" points=\"196.464,-378.6068 192.9639,-368.6068 189.464,-378.6069 196.464,-378.6068\" stroke=\"#000000\"/>\n",
       "</g>\n",
       "<!-- 48177931600 -->\n",
       "<g class=\"node\" id=\"node16\">\n",
       "<title>48177931600</title>\n",
       "<polygon fill=\"none\" points=\"3.5,-243.5 3.5,-287.5 382.4277,-287.5 382.4277,-243.5 3.5,-243.5\" stroke=\"#000000\"/>\n",
       "<text fill=\"#000000\" font-family=\"Times,serif\" font-size=\"14.00\" text-anchor=\"middle\" x=\"109.3052\" y=\"-261.3\">up_sampling2d_2: UpSampling2D</text>\n",
       "<polyline fill=\"none\" points=\"215.1104,-243.5 215.1104,-287.5 \" stroke=\"#000000\"/>\n",
       "<text fill=\"#000000\" font-family=\"Times,serif\" font-size=\"14.00\" text-anchor=\"middle\" x=\"242.9448\" y=\"-272.3\">input:</text>\n",
       "<polyline fill=\"none\" points=\"215.1104,-265.5 270.7793,-265.5 \" stroke=\"#000000\"/>\n",
       "<text fill=\"#000000\" font-family=\"Times,serif\" font-size=\"14.00\" text-anchor=\"middle\" x=\"242.9448\" y=\"-250.3\">output:</text>\n",
       "<polyline fill=\"none\" points=\"270.7793,-243.5 270.7793,-287.5 \" stroke=\"#000000\"/>\n",
       "<text fill=\"#000000\" font-family=\"Times,serif\" font-size=\"14.00\" text-anchor=\"middle\" x=\"326.6035\" y=\"-272.3\">(None, 16, 16, 8)</text>\n",
       "<polyline fill=\"none\" points=\"270.7793,-265.5 382.4277,-265.5 \" stroke=\"#000000\"/>\n",
       "<text fill=\"#000000\" font-family=\"Times,serif\" font-size=\"14.00\" text-anchor=\"middle\" x=\"326.6035\" y=\"-250.3\">(None, 32, 32, 8)</text>\n",
       "</g>\n",
       "<!-- 48178031304&#45;&gt;48177931600 -->\n",
       "<g class=\"edge\" id=\"edge15\">\n",
       "<title>48178031304-&gt;48177931600</title>\n",
       "<path d=\"M192.9639,-324.3664C192.9639,-316.1516 192.9639,-306.6579 192.9639,-297.7252\" fill=\"none\" stroke=\"#000000\"/>\n",
       "<polygon fill=\"#000000\" points=\"196.464,-297.6068 192.9639,-287.6068 189.464,-297.6069 196.464,-297.6068\" stroke=\"#000000\"/>\n",
       "</g>\n",
       "<!-- 48189049544 -->\n",
       "<g class=\"node\" id=\"node17\">\n",
       "<title>48189049544</title>\n",
       "<polygon fill=\"none\" points=\"42.7793,-162.5 42.7793,-206.5 343.1484,-206.5 343.1484,-162.5 42.7793,-162.5\" stroke=\"#000000\"/>\n",
       "<text fill=\"#000000\" font-family=\"Times,serif\" font-size=\"14.00\" text-anchor=\"middle\" x=\"105.8052\" y=\"-180.3\">conv2d_7: Conv2D</text>\n",
       "<polyline fill=\"none\" points=\"168.8311,-162.5 168.8311,-206.5 \" stroke=\"#000000\"/>\n",
       "<text fill=\"#000000\" font-family=\"Times,serif\" font-size=\"14.00\" text-anchor=\"middle\" x=\"196.6655\" y=\"-191.3\">input:</text>\n",
       "<polyline fill=\"none\" points=\"168.8311,-184.5 224.5,-184.5 \" stroke=\"#000000\"/>\n",
       "<text fill=\"#000000\" font-family=\"Times,serif\" font-size=\"14.00\" text-anchor=\"middle\" x=\"196.6655\" y=\"-169.3\">output:</text>\n",
       "<polyline fill=\"none\" points=\"224.5,-162.5 224.5,-206.5 \" stroke=\"#000000\"/>\n",
       "<text fill=\"#000000\" font-family=\"Times,serif\" font-size=\"14.00\" text-anchor=\"middle\" x=\"283.8242\" y=\"-191.3\">(None, 32, 32, 8)</text>\n",
       "<polyline fill=\"none\" points=\"224.5,-184.5 343.1484,-184.5 \" stroke=\"#000000\"/>\n",
       "<text fill=\"#000000\" font-family=\"Times,serif\" font-size=\"14.00\" text-anchor=\"middle\" x=\"283.8242\" y=\"-169.3\">(None, 32, 32, 16)</text>\n",
       "</g>\n",
       "<!-- 48177931600&#45;&gt;48189049544 -->\n",
       "<g class=\"edge\" id=\"edge16\">\n",
       "<title>48177931600-&gt;48189049544</title>\n",
       "<path d=\"M192.9639,-243.3664C192.9639,-235.1516 192.9639,-225.6579 192.9639,-216.7252\" fill=\"none\" stroke=\"#000000\"/>\n",
       "<polygon fill=\"#000000\" points=\"196.464,-216.6068 192.9639,-206.6068 189.464,-216.6069 196.464,-216.6068\" stroke=\"#000000\"/>\n",
       "</g>\n",
       "<!-- 48189049936 -->\n",
       "<g class=\"node\" id=\"node18\">\n",
       "<title>48189049936</title>\n",
       "<polygon fill=\"none\" points=\"0,-81.5 0,-125.5 385.9277,-125.5 385.9277,-81.5 0,-81.5\" stroke=\"#000000\"/>\n",
       "<text fill=\"#000000\" font-family=\"Times,serif\" font-size=\"14.00\" text-anchor=\"middle\" x=\"105.8052\" y=\"-99.3\">up_sampling2d_3: UpSampling2D</text>\n",
       "<polyline fill=\"none\" points=\"211.6104,-81.5 211.6104,-125.5 \" stroke=\"#000000\"/>\n",
       "<text fill=\"#000000\" font-family=\"Times,serif\" font-size=\"14.00\" text-anchor=\"middle\" x=\"239.4448\" y=\"-110.3\">input:</text>\n",
       "<polyline fill=\"none\" points=\"211.6104,-103.5 267.2793,-103.5 \" stroke=\"#000000\"/>\n",
       "<text fill=\"#000000\" font-family=\"Times,serif\" font-size=\"14.00\" text-anchor=\"middle\" x=\"239.4448\" y=\"-88.3\">output:</text>\n",
       "<polyline fill=\"none\" points=\"267.2793,-81.5 267.2793,-125.5 \" stroke=\"#000000\"/>\n",
       "<text fill=\"#000000\" font-family=\"Times,serif\" font-size=\"14.00\" text-anchor=\"middle\" x=\"326.6035\" y=\"-110.3\">(None, 32, 32, 16)</text>\n",
       "<polyline fill=\"none\" points=\"267.2793,-103.5 385.9277,-103.5 \" stroke=\"#000000\"/>\n",
       "<text fill=\"#000000\" font-family=\"Times,serif\" font-size=\"14.00\" text-anchor=\"middle\" x=\"326.6035\" y=\"-88.3\">(None, 64, 64, 16)</text>\n",
       "</g>\n",
       "<!-- 48189049544&#45;&gt;48189049936 -->\n",
       "<g class=\"edge\" id=\"edge17\">\n",
       "<title>48189049544-&gt;48189049936</title>\n",
       "<path d=\"M192.9639,-162.3664C192.9639,-154.1516 192.9639,-144.6579 192.9639,-135.7252\" fill=\"none\" stroke=\"#000000\"/>\n",
       "<polygon fill=\"#000000\" points=\"196.464,-135.6068 192.9639,-125.6068 189.464,-135.6069 196.464,-135.6068\" stroke=\"#000000\"/>\n",
       "</g>\n",
       "<!-- 48189291264 -->\n",
       "<g class=\"node\" id=\"node19\">\n",
       "<title>48189291264</title>\n",
       "<polygon fill=\"none\" points=\"52.4966,-.5 52.4966,-44.5 333.4312,-44.5 333.4312,-.5 52.4966,-.5\" stroke=\"#000000\"/>\n",
       "<text fill=\"#000000\" font-family=\"Times,serif\" font-size=\"14.00\" text-anchor=\"middle\" x=\"105.8052\" y=\"-18.3\">output: Conv2D</text>\n",
       "<polyline fill=\"none\" points=\"159.1138,-.5 159.1138,-44.5 \" stroke=\"#000000\"/>\n",
       "<text fill=\"#000000\" font-family=\"Times,serif\" font-size=\"14.00\" text-anchor=\"middle\" x=\"186.9482\" y=\"-29.3\">input:</text>\n",
       "<polyline fill=\"none\" points=\"159.1138,-22.5 214.7827,-22.5 \" stroke=\"#000000\"/>\n",
       "<text fill=\"#000000\" font-family=\"Times,serif\" font-size=\"14.00\" text-anchor=\"middle\" x=\"186.9482\" y=\"-7.3\">output:</text>\n",
       "<polyline fill=\"none\" points=\"214.7827,-.5 214.7827,-44.5 \" stroke=\"#000000\"/>\n",
       "<text fill=\"#000000\" font-family=\"Times,serif\" font-size=\"14.00\" text-anchor=\"middle\" x=\"274.1069\" y=\"-29.3\">(None, 64, 64, 16)</text>\n",
       "<polyline fill=\"none\" points=\"214.7827,-22.5 333.4312,-22.5 \" stroke=\"#000000\"/>\n",
       "<text fill=\"#000000\" font-family=\"Times,serif\" font-size=\"14.00\" text-anchor=\"middle\" x=\"274.1069\" y=\"-7.3\">(None, 64, 64, 1)</text>\n",
       "</g>\n",
       "<!-- 48189049936&#45;&gt;48189291264 -->\n",
       "<g class=\"edge\" id=\"edge18\">\n",
       "<title>48189049936-&gt;48189291264</title>\n",
       "<path d=\"M192.9639,-81.3664C192.9639,-73.1516 192.9639,-63.6579 192.9639,-54.7252\" fill=\"none\" stroke=\"#000000\"/>\n",
       "<polygon fill=\"#000000\" points=\"196.464,-54.6068 192.9639,-44.6068 189.464,-54.6069 196.464,-54.6068\" stroke=\"#000000\"/>\n",
       "</g>\n",
       "</g>\n",
       "</svg>"
      ],
      "text/plain": [
       "<IPython.core.display.SVG object>"
      ]
     },
     "metadata": {},
     "output_type": "display_data"
    }
   ],
   "source": [
    "input_img = Input(shape=(64, 64, 1))  # adapt this if using `channels_first` image data format\n",
    "# x = CoordinateChannel2D()(input_img)\n",
    "x = Conv2D(16, (3, 3), activation='relu', padding='same')(input_img)\n",
    "x = MaxPooling2D((2, 2), padding='same')(x)\n",
    "# x = CoordinateChannel2D()(x)\n",
    "x = Conv2D(8, (3, 3), activation='relu', padding='same')(x)\n",
    "x = MaxPooling2D((2, 2), padding='same')(x)\n",
    "# x = CoordinateChannel2D()(x)\n",
    "x = Conv2D(4, (3, 3), activation='relu', padding='same')(x)\n",
    "x = MaxPooling2D((2, 2), padding='same')(x)\n",
    "x = Conv2D(4, (3, 3), activation='relu', padding='same')(x)\n",
    "encoded = MaxPooling2D((2, 2), padding='same')(x)\n",
    "encoded = Flatten()(encoded)\n",
    "encoded = Dense(8*8*4, activation='relu', name='latent')(encoded)\n",
    "# model = Model(input_img,encoded)\n",
    "# print(model.summary())\n",
    "# at this point the representation is (4, 4, 8) i.e. 128-dimensional\n",
    "r = Reshape(target_shape=(8,8,4))(encoded)\n",
    "x = Conv2D(4, (3, 3), activation='relu', padding='same')(r)\n",
    "x = UpSampling2D((2, 2))(x)\n",
    "# x = Conv2D(4, (3, 3), activation='relu', padding='same')(x)\n",
    "# x = UpSampling2D((2, 2))(x)\n",
    "x = Conv2D(8, (3, 3), activation='relu', padding='same')(x)\n",
    "x = UpSampling2D((2, 2))(x)\n",
    "x = Conv2D(16, (3, 3), activation='relu', padding='same')(x)\n",
    "x = UpSampling2D((2, 2))(x)\n",
    "decoded = Conv2D(1, (3, 3), activation='sigmoid', padding='same',name='output')(x)\n",
    "\n",
    "autoencoderSeen = Model(input_img, decoded)\n",
    "autoencoderSeen.compile(optimizer='adadelta', loss='binary_crossentropy')\n",
    "\n",
    "\n",
    "autoencoderShuffle = Model(input_img, decoded)\n",
    "autoencoderShuffle.compile(optimizer='adadelta', loss='binary_crossentropy')\n",
    "\n",
    "autoencoderUnseen = Model(input_img, decoded)\n",
    "autoencoderUnseen.compile(optimizer='adadelta', loss='binary_crossentropy')\n",
    "#autoencoder.summary()\n",
    "\n",
    "encoderSeen = Model(input_img, encoded)\n",
    "encoderShuffle = Model(input_img, encoded)\n",
    "encoderUnseen = Model(input_img, encoded)\n",
    "#encoder.summary()\n",
    "display(SVG(model_to_dot(autoencoderSeen, show_layer_names=True, show_shapes=True, rankdir='TB').create(prog='dot', format='svg')))\n"
   ]
  },
  {
   "cell_type": "code",
   "execution_count": 7,
   "metadata": {
    "ExecuteTime": {
     "end_time": "2019-04-08T11:48:54.581417Z",
     "start_time": "2019-04-08T11:48:54.571635Z"
    }
   },
   "outputs": [],
   "source": [
    "def dataGen(bSize, imgData):\n",
    "    count = 0\n",
    "    sameW = imgData[imgData['label']==1].reset_index()\n",
    "    #print (sameW)\n",
    "    diffW = imgData[imgData['label']==0].reset_index()\n",
    "    #print (diffW)\n",
    "    while True:\n",
    "        count = 0\n",
    "        left, right = [], []\n",
    "        label = []\n",
    "        sameWIndexes = np.random.randint(0,len(sameW),bSize//2)\n",
    "        diffWIndexes = np.random.randint(0,len(diffW),bSize//2)\n",
    "        for sameWInd in sameWIndexes:\n",
    "            imgL = (cv.imread(imgLoc+sameW['left'][sameWInd],0)).reshape((64,64,1))\n",
    "            imgR = (cv.imread(imgLoc+sameW['right'][sameWInd],0)).reshape((64,64,1))\n",
    "            left.append(imgL)\n",
    "            right.append(imgR)\n",
    "            label.append(1)\n",
    "            count+=1\n",
    "        for diffWInd in diffWIndexes:\n",
    "\n",
    "            imgLR = (cv.imread(imgLoc+diffW['left'][diffWInd],0)).reshape((64,64,1))\n",
    "           \n",
    "            imgRR = (cv.imread(imgLoc+diffW['right'][diffWInd],0)).reshape((64,64,1))\n",
    "            left.append(imgL)\n",
    "            right.append(imgR)\n",
    "            label.append(0)\n",
    "            count+=1\n",
    "        yield [left,right], label\n",
    "        "
   ]
  },
  {
   "cell_type": "code",
   "execution_count": 9,
   "metadata": {
    "ExecuteTime": {
     "end_time": "2019-04-08T12:22:17.967979Z",
     "start_time": "2019-04-08T11:49:48.967678Z"
    }
   },
   "outputs": [
    {
     "name": "stdout",
     "output_type": "stream",
     "text": [
      "Epoch 1/20\n",
      "12846/12846 [==============================] - 110s 9ms/step - loss: 0.6059 - acc: 0.8876\n",
      "Epoch 2/20\n",
      "12846/12846 [==============================] - 106s 8ms/step - loss: 0.3414 - acc: 0.8877\n",
      "Epoch 3/20\n",
      "12846/12846 [==============================] - 104s 8ms/step - loss: 0.2449 - acc: 0.8877\n",
      "Epoch 4/20\n",
      "12846/12846 [==============================] - 106s 8ms/step - loss: 0.2201 - acc: 0.8877\n",
      "Epoch 5/20\n",
      "12846/12846 [==============================] - 109s 8ms/step - loss: 0.2089 - acc: 0.8877\n",
      "Epoch 6/20\n",
      "12846/12846 [==============================] - 105s 8ms/step - loss: 0.2028 - acc: 0.8877\n",
      "Epoch 7/20\n",
      "12846/12846 [==============================] - 108s 8ms/step - loss: 0.1987 - acc: 0.8877\n",
      "Epoch 8/20\n",
      "12846/12846 [==============================] - 92s 7ms/step - loss: 0.1954 - acc: 0.8877\n",
      "Epoch 9/20\n",
      "12846/12846 [==============================] - 92s 7ms/step - loss: 0.1921 - acc: 0.8877\n",
      "Epoch 10/20\n",
      "12846/12846 [==============================] - 92s 7ms/step - loss: 0.1893 - acc: 0.8877\n",
      "Epoch 11/20\n",
      "12846/12846 [==============================] - 93s 7ms/step - loss: 0.1868 - acc: 0.8877\n",
      "Epoch 12/20\n",
      "12846/12846 [==============================] - 91s 7ms/step - loss: 0.1848 - acc: 0.8877\n",
      "Epoch 13/20\n",
      "12846/12846 [==============================] - 92s 7ms/step - loss: 0.1830 - acc: 0.8877\n",
      "Epoch 14/20\n",
      "12846/12846 [==============================] - 93s 7ms/step - loss: 0.1815 - acc: 0.8877\n",
      "Epoch 15/20\n",
      "12846/12846 [==============================] - 92s 7ms/step - loss: 0.1801 - acc: 0.8877\n",
      "Epoch 16/20\n",
      "12846/12846 [==============================] - 91s 7ms/step - loss: 0.1780 - acc: 0.8877\n",
      "Epoch 17/20\n",
      "12846/12846 [==============================] - 94s 7ms/step - loss: 0.1760 - acc: 0.8877\n",
      "Epoch 18/20\n",
      "12846/12846 [==============================] - 92s 7ms/step - loss: 0.1741 - acc: 0.8877\n",
      "Epoch 19/20\n",
      "12846/12846 [==============================] - 92s 7ms/step - loss: 0.1719 - acc: 0.8877\n",
      "Epoch 20/20\n",
      "12846/12846 [==============================] - 92s 7ms/step - loss: 0.1694 - acc: 0.8877\n"
     ]
    }
   ],
   "source": [
    "optimizer = Adam(lr = 0.00005)\n",
    "autoencoderSeen.compile(optimizer=optimizer, loss='binary_crossentropy', metrics=['accuracy'])\n",
    "random.shuffle(trainSeenImgs)\n",
    "histSeen = autoencoderSeen.fit(trainSeenImgs, trainSeenImgs, \n",
    "                epochs=20,\n",
    "                batch_size=128,\n",
    "                shuffle=True)"
   ]
  },
  {
   "cell_type": "code",
   "execution_count": 44,
   "metadata": {
    "ExecuteTime": {
     "end_time": "2019-04-08T20:48:36.445557Z",
     "start_time": "2019-04-08T20:48:35.016747Z"
    }
   },
   "outputs": [
    {
     "data": {
      "text/plain": [
       "array([<matplotlib.axes._subplots.AxesSubplot object at 0xb91c08160>,\n",
       "       <matplotlib.axes._subplots.AxesSubplot object at 0xb90444710>],\n",
       "      dtype=object)"
      ]
     },
     "execution_count": 44,
     "metadata": {},
     "output_type": "execute_result"
    },
    {
     "data": {
      "image/png": "[encoded data removed]",
      "text/plain": [
       "<Figure size 1080x1080 with 2 Axes>"
      ]
     },
     "metadata": {
      "needs_background": "light"
     },
     "output_type": "display_data"
    }
   ],
   "source": [
    "df_hist = pd.DataFrame(histSeen.history)\n",
    "df_hist.plot(subplots=True, figsize=(15,15))"
   ]
  },
  {
   "cell_type": "code",
   "execution_count": null,
   "metadata": {
    "ExecuteTime": {
     "end_time": "2019-04-08T16:29:09.452771Z",
     "start_time": "2019-04-08T16:29:09.429818Z"
    }
   },
   "outputs": [],
   "source": []
  },
  {
   "cell_type": "code",
   "execution_count": 10,
   "metadata": {
    "ExecuteTime": {
     "end_time": "2019-04-08T12:50:43.409675Z",
     "start_time": "2019-04-08T12:22:18.516938Z"
    }
   },
   "outputs": [
    {
     "name": "stdout",
     "output_type": "stream",
     "text": [
      "Epoch 1/20\n",
      "11823/11823 [==============================] - 87s 7ms/step - loss: 0.1583 - acc: 0.8920\n",
      "Epoch 2/20\n",
      "11823/11823 [==============================] - 85s 7ms/step - loss: 0.1537 - acc: 0.8920\n",
      "Epoch 3/20\n",
      "11823/11823 [==============================] - 85s 7ms/step - loss: 0.1515 - acc: 0.8920\n",
      "Epoch 4/20\n",
      "11823/11823 [==============================] - 85s 7ms/step - loss: 0.1497 - acc: 0.8919\n",
      "Epoch 5/20\n",
      "11823/11823 [==============================] - 85s 7ms/step - loss: 0.1484 - acc: 0.8918\n",
      "Epoch 6/20\n",
      "11823/11823 [==============================] - 84s 7ms/step - loss: 0.1474 - acc: 0.8917\n",
      "Epoch 7/20\n",
      "11823/11823 [==============================] - 85s 7ms/step - loss: 0.1465 - acc: 0.8916\n",
      "Epoch 8/20\n",
      "11823/11823 [==============================] - 84s 7ms/step - loss: 0.1457 - acc: 0.8915\n",
      "Epoch 9/20\n",
      "11823/11823 [==============================] - 85s 7ms/step - loss: 0.1450 - acc: 0.8914\n",
      "Epoch 10/20\n",
      "11823/11823 [==============================] - 85s 7ms/step - loss: 0.1444 - acc: 0.8913\n",
      "Epoch 11/20\n",
      "11823/11823 [==============================] - 85s 7ms/step - loss: 0.1438 - acc: 0.8913\n",
      "Epoch 12/20\n",
      "11823/11823 [==============================] - 83s 7ms/step - loss: 0.1433 - acc: 0.8912\n",
      "Epoch 13/20\n",
      "11823/11823 [==============================] - 83s 7ms/step - loss: 0.1429 - acc: 0.8911\n",
      "Epoch 14/20\n",
      "11823/11823 [==============================] - 84s 7ms/step - loss: 0.1425 - acc: 0.8911\n",
      "Epoch 15/20\n",
      "11823/11823 [==============================] - 99s 8ms/step - loss: 0.1421 - acc: 0.8910\n",
      "Epoch 16/20\n",
      "11823/11823 [==============================] - 83s 7ms/step - loss: 0.1417 - acc: 0.8910\n",
      "Epoch 17/20\n",
      "11823/11823 [==============================] - 83s 7ms/step - loss: 0.1413 - acc: 0.8910\n",
      "Epoch 18/20\n",
      "11823/11823 [==============================] - 84s 7ms/step - loss: 0.1410 - acc: 0.8910\n",
      "Epoch 19/20\n",
      "11823/11823 [==============================] - 83s 7ms/step - loss: 0.1407 - acc: 0.8910\n",
      "Epoch 20/20\n",
      "11823/11823 [==============================] - 84s 7ms/step - loss: 0.1404 - acc: 0.8910\n"
     ]
    }
   ],
   "source": [
    "autoencoderShuffle.compile(optimizer=optimizer, loss='binary_crossentropy', metrics=['accuracy'])\n",
    "random.shuffle(trainShuffleImgs)\n",
    "histShuffle = autoencoderShuffle.fit(trainShuffleImgs, trainShuffleImgs, \n",
    "                epochs=20,\n",
    "                batch_size=128,\n",
    "                shuffle=True)"
   ]
  },
  {
   "cell_type": "code",
   "execution_count": 47,
   "metadata": {
    "ExecuteTime": {
     "end_time": "2019-04-08T20:53:35.164435Z",
     "start_time": "2019-04-08T20:53:34.729662Z"
    }
   },
   "outputs": [
    {
     "data": {
      "text/plain": [
       "array([<matplotlib.axes._subplots.AxesSubplot object at 0xb8c148080>,\n",
       "       <matplotlib.axes._subplots.AxesSubplot object at 0xb933412e8>],\n",
       "      dtype=object)"
      ]
     },
     "execution_count": 47,
     "metadata": {},
     "output_type": "execute_result"
    },
    {
     "data": {
      "image/png": "[encoded data removed]",
      "text/plain": [
       "<Figure size 1080x1080 with 2 Axes>"
      ]
     },
     "metadata": {
      "needs_background": "light"
     },
     "output_type": "display_data"
    }
   ],
   "source": [
    "df_hist = pd.DataFrame(histShuffle.history)\n",
    "df_hist.plot(subplots=True, figsize=(15,15))"
   ]
  },
  {
   "cell_type": "code",
   "execution_count": 11,
   "metadata": {
    "ExecuteTime": {
     "end_time": "2019-04-08T13:21:22.951842Z",
     "start_time": "2019-04-08T12:50:43.932682Z"
    }
   },
   "outputs": [
    {
     "name": "stdout",
     "output_type": "stream",
     "text": [
      "Epoch 1/20\n",
      "12906/12906 [==============================] - 94s 7ms/step - loss: 0.1452 - acc: 0.8870\n",
      "Epoch 2/20\n",
      "12906/12906 [==============================] - 91s 7ms/step - loss: 0.1443 - acc: 0.8870\n",
      "Epoch 3/20\n",
      "12906/12906 [==============================] - 91s 7ms/step - loss: 0.1438 - acc: 0.8870\n",
      "Epoch 4/20\n",
      "12906/12906 [==============================] - 91s 7ms/step - loss: 0.1433 - acc: 0.8870\n",
      "Epoch 5/20\n",
      "12906/12906 [==============================] - 91s 7ms/step - loss: 0.1429 - acc: 0.8870\n",
      "Epoch 6/20\n",
      "12906/12906 [==============================] - 91s 7ms/step - loss: 0.1426 - acc: 0.8870\n",
      "Epoch 7/20\n",
      "12906/12906 [==============================] - 91s 7ms/step - loss: 0.1423 - acc: 0.8870\n",
      "Epoch 8/20\n",
      "12906/12906 [==============================] - 91s 7ms/step - loss: 0.1420 - acc: 0.8870\n",
      "Epoch 9/20\n",
      "12906/12906 [==============================] - 92s 7ms/step - loss: 0.1418 - acc: 0.8870\n",
      "Epoch 10/20\n",
      "12906/12906 [==============================] - 92s 7ms/step - loss: 0.1415 - acc: 0.8870\n",
      "Epoch 11/20\n",
      "12906/12906 [==============================] - 92s 7ms/step - loss: 0.1413 - acc: 0.8870\n",
      "Epoch 12/20\n",
      "12906/12906 [==============================] - 92s 7ms/step - loss: 0.1411 - acc: 0.8870\n",
      "Epoch 13/20\n",
      "12906/12906 [==============================] - 92s 7ms/step - loss: 0.1409 - acc: 0.8870\n",
      "Epoch 14/20\n",
      "12906/12906 [==============================] - 93s 7ms/step - loss: 0.1407 - acc: 0.8870\n",
      "Epoch 15/20\n",
      "12906/12906 [==============================] - 92s 7ms/step - loss: 0.1405 - acc: 0.8870\n",
      "Epoch 16/20\n",
      "12906/12906 [==============================] - 91s 7ms/step - loss: 0.1403 - acc: 0.8870\n",
      "Epoch 17/20\n",
      "12906/12906 [==============================] - 94s 7ms/step - loss: 0.1401 - acc: 0.8870\n",
      "Epoch 18/20\n",
      "12906/12906 [==============================] - 92s 7ms/step - loss: 0.1399 - acc: 0.8869\n",
      "Epoch 19/20\n",
      "12906/12906 [==============================] - 92s 7ms/step - loss: 0.1397 - acc: 0.8869\n",
      "Epoch 20/20\n",
      "12906/12906 [==============================] - 92s 7ms/step - loss: 0.1396 - acc: 0.8869\n"
     ]
    }
   ],
   "source": [
    "autoencoderUnseen.compile(optimizer=optimizer, loss='binary_crossentropy', metrics=['accuracy'])\n",
    "random.shuffle(trainUnseenImgs)\n",
    "histUnseen = autoencoderUnseen.fit(trainUnseenImgs, trainUnseenImgs, \n",
    "                epochs=20,\n",
    "                batch_size=128,\n",
    "                shuffle=True)"
   ]
  },
  {
   "cell_type": "code",
   "execution_count": 48,
   "metadata": {
    "ExecuteTime": {
     "end_time": "2019-04-08T20:53:49.943687Z",
     "start_time": "2019-04-08T20:53:49.524004Z"
    }
   },
   "outputs": [
    {
     "data": {
      "text/plain": [
       "array([<matplotlib.axes._subplots.AxesSubplot object at 0xb932bba20>,\n",
       "       <matplotlib.axes._subplots.AxesSubplot object at 0xb92fb2128>],\n",
       "      dtype=object)"
      ]
     },
     "execution_count": 48,
     "metadata": {},
     "output_type": "execute_result"
    },
    {
     "data": {
      "image/png": "[encoded data removed]",
      "text/plain": [
       "<Figure size 1080x1080 with 2 Axes>"
      ]
     },
     "metadata": {
      "needs_background": "light"
     },
     "output_type": "display_data"
    }
   ],
   "source": [
    "df_hist = pd.DataFrame(histUnseen.history)\n",
    "df_hist.plot(subplots=True, figsize=(15,15))"
   ]
  },
  {
   "cell_type": "code",
   "execution_count": 14,
   "metadata": {
    "ExecuteTime": {
     "end_time": "2019-04-08T16:29:22.864476Z",
     "start_time": "2019-04-08T16:29:22.859197Z"
    }
   },
   "outputs": [],
   "source": [
    "def cos_sim(a, b):\n",
    "    dot_product = np.dot(a, b)\n",
    "    norm_a = np.linalg.norm(a)\n",
    "    norm_b = np.linalg.norm(b)\n",
    "    return dot_product / (norm_a * norm_b)"
   ]
  },
  {
   "cell_type": "code",
   "execution_count": 16,
   "metadata": {
    "ExecuteTime": {
     "end_time": "2019-04-08T16:29:24.633344Z",
     "start_time": "2019-04-08T16:29:24.616887Z"
    }
   },
   "outputs": [],
   "source": [
    "def getSimMat(encoder, testImgs):\n",
    "    pred = encoder.predict(testImgs)\n",
    "    simMat = []\n",
    "    for img1 in pred:\n",
    "        simMatTemp = []\n",
    "        for img2 in pred:\n",
    "            simMatTemp.append(cos_sim(img1,img2))\n",
    "        simMat.append(simMatTemp)\n",
    "\n",
    "    simMat = np.asarray(simMat)\n",
    "    return pred, simMat"
   ]
  },
  {
   "cell_type": "code",
   "execution_count": 17,
   "metadata": {
    "ExecuteTime": {
     "end_time": "2019-04-08T16:29:25.366509Z",
     "start_time": "2019-04-08T16:29:25.352119Z"
    }
   },
   "outputs": [],
   "source": [
    "def getTrueFalse(simMat, testImgsList, thres):\n",
    "    trueP, trueN, falseP, falseN = 0, 0, 0, 0\n",
    "    threshold = thres\n",
    "    for i in range(simMat.shape[0]):\n",
    "        for j in range(simMat.shape[0]):\n",
    "            if (testImgsList[i][:4] == testImgsList[j][:4]):\n",
    "                if (simMat[i][j] > threshold):\n",
    "                    trueP+=1\n",
    "                else:\n",
    "                    falseN+=1\n",
    "            else:\n",
    "                if (simMat[i][j] > threshold):\n",
    "                    falseP+=1\n",
    "                else:\n",
    "                    trueN+=1\n",
    "    return trueP, trueN, falseP, falseN"
   ]
  },
  {
   "cell_type": "code",
   "execution_count": 39,
   "metadata": {
    "ExecuteTime": {
     "end_time": "2019-04-08T19:58:39.922764Z",
     "start_time": "2019-04-08T19:58:39.911019Z"
    }
   },
   "outputs": [],
   "source": [
    "def calAccuracy(testImgsList, simMat, threshold):\n",
    "    count = 0\n",
    "    for i in range(len(testImgsList)):\n",
    "        for j in range(len(testImgsList)):\n",
    "            if ((testImgsList[i][:4] == testImgsList[j][:4]) and (simMat[i][j] >threshold)):\n",
    "                count +=1\n",
    "            elif ((testImgsList[i][:4] != testImgsList[j][:4]) and (simMat[i][j] < threshold)) :\n",
    "                count +=1\n",
    "            else : \n",
    "                continue\n",
    "    acc = count/(len(testImgsList)**2)*100\n",
    "    return acc"
   ]
  },
  {
   "cell_type": "markdown",
   "metadata": {},
   "source": [
    "## Siamese Model"
   ]
  },
  {
   "cell_type": "code",
   "execution_count": 50,
   "metadata": {
    "ExecuteTime": {
     "end_time": "2019-04-08T20:55:47.164380Z",
     "start_time": "2019-04-08T20:55:47.157978Z"
    }
   },
   "outputs": [],
   "source": [
    "def train(model, imgData, numIter, bSize):\n",
    "    c=0\n",
    "    for batchData in dataGen(bSize, imgData):\n",
    "        if (c==numIter):\n",
    "            break\n",
    "        loss = model.train_on_batch(batchData[0], batchData[1])\n",
    "        print(loss)\n",
    "        c+=1\n",
    "    "
   ]
  },
  {
   "cell_type": "code",
   "execution_count": 58,
   "metadata": {
    "ExecuteTime": {
     "end_time": "2019-04-08T21:09:39.923249Z",
     "start_time": "2019-04-08T21:09:39.384006Z"
    },
    "scrolled": true
   },
   "outputs": [
    {
     "name": "stdout",
     "output_type": "stream",
     "text": [
      "_________________________________________________________________\n",
      "Layer (type)                 Output Shape              Param #   \n",
      "=================================================================\n",
      "ImageInput (InputLayer)      (None, 64, 64, 1)         0         \n",
      "_________________________________________________________________\n",
      "conv2d_23 (Conv2D)           (None, 62, 62, 32)        320       \n",
      "_________________________________________________________________\n",
      "max_pooling2d_17 (MaxPooling (None, 31, 31, 32)        0         \n",
      "_________________________________________________________________\n",
      "conv2d_24 (Conv2D)           (None, 29, 29, 64)        18496     \n",
      "_________________________________________________________________\n",
      "max_pooling2d_18 (MaxPooling (None, 14, 14, 64)        0         \n",
      "_________________________________________________________________\n",
      "conv2d_25 (Conv2D)           (None, 12, 12, 128)       73856     \n",
      "_________________________________________________________________\n",
      "max_pooling2d_19 (MaxPooling (None, 6, 6, 128)         0         \n",
      "_________________________________________________________________\n",
      "conv2d_26 (Conv2D)           (None, 6, 6, 256)         33024     \n",
      "_________________________________________________________________\n",
      "max_pooling2d_20 (MaxPooling (None, 3, 3, 256)         0         \n",
      "_________________________________________________________________\n",
      "conv2d_27 (Conv2D)           (None, 3, 3, 64)          16448     \n",
      "_________________________________________________________________\n",
      "flatten_5 (Flatten)          (None, 576)               0         \n",
      "=================================================================\n",
      "Total params: 142,144\n",
      "Trainable params: 142,144\n",
      "Non-trainable params: 0\n",
      "_________________________________________________________________\n"
     ]
    }
   ],
   "source": [
    "model = getModel()\n",
    "#model = modelAutoEncoder()\n",
    "optimizer = Adam(lr = 0.00005)\n",
    "model.compile(loss=\"binary_crossentropy\",optimizer=optimizer, metrics=['accuracy'])\n",
    "#model.fit()\n",
    "#model.fit_generator(dataGen(model, ))\n",
    "#train(model, seenTraining, 1000, 100)"
   ]
  },
  {
   "cell_type": "code",
   "execution_count": 59,
   "metadata": {
    "ExecuteTime": {
     "end_time": "2019-04-08T21:09:40.549944Z",
     "start_time": "2019-04-08T21:09:40.393845Z"
    },
    "scrolled": false
   },
   "outputs": [
    {
     "data": {
      "image/svg+xml": [
       "<svg height=\"782pt\" viewBox=\"0.00 0.00 634.23 782.00\" width=\"634pt\" xmlns=\"http://www.w3.org/2000/svg\" xmlns:xlink=\"http://www.w3.org/1999/xlink\">\n",
       "<g class=\"graph\" id=\"graph0\" transform=\"scale(1 1) rotate(0) translate(4 778)\">\n",
       "<title>G</title>\n",
       "<polygon fill=\"#ffffff\" points=\"-4,4 -4,-778 630.228,-778 630.228,4 -4,4\" stroke=\"transparent\"/>\n",
       "<!-- 48210783648 -->\n",
       "<g class=\"node\" id=\"node1\">\n",
       "<title>48210783648</title>\n",
       "<polygon fill=\"none\" points=\"0,-729.5 0,-773.5 300.335,-773.5 300.335,-729.5 0,-729.5\" stroke=\"#000000\"/>\n",
       "<text fill=\"#000000\" font-family=\"Times,serif\" font-size=\"14.00\" text-anchor=\"middle\" x=\"66.5088\" y=\"-747.3\">left_img: InputLayer</text>\n",
       "<polyline fill=\"none\" points=\"133.0176,-729.5 133.0176,-773.5 \" stroke=\"#000000\"/>\n",
       "<text fill=\"#000000\" font-family=\"Times,serif\" font-size=\"14.00\" text-anchor=\"middle\" x=\"160.8521\" y=\"-758.3\">input:</text>\n",
       "<polyline fill=\"none\" points=\"133.0176,-751.5 188.6865,-751.5 \" stroke=\"#000000\"/>\n",
       "<text fill=\"#000000\" font-family=\"Times,serif\" font-size=\"14.00\" text-anchor=\"middle\" x=\"160.8521\" y=\"-736.3\">output:</text>\n",
       "<polyline fill=\"none\" points=\"188.6865,-729.5 188.6865,-773.5 \" stroke=\"#000000\"/>\n",
       "<text fill=\"#000000\" font-family=\"Times,serif\" font-size=\"14.00\" text-anchor=\"middle\" x=\"244.5107\" y=\"-758.3\">(None, 64, 64, 1)</text>\n",
       "<polyline fill=\"none\" points=\"188.6865,-751.5 300.335,-751.5 \" stroke=\"#000000\"/>\n",
       "<text fill=\"#000000\" font-family=\"Times,serif\" font-size=\"14.00\" text-anchor=\"middle\" x=\"244.5107\" y=\"-736.3\">(None, 64, 64, 1)</text>\n",
       "</g>\n",
       "<!-- 48210678616 -->\n",
       "<g class=\"node\" id=\"node3\">\n",
       "<title>48210678616</title>\n",
       "<polygon fill=\"none\" points=\"163.7104,-648.5 163.7104,-692.5 458.6245,-692.5 458.6245,-648.5 163.7104,-648.5\" stroke=\"#000000\"/>\n",
       "<text fill=\"#000000\" font-family=\"Times,serif\" font-size=\"14.00\" text-anchor=\"middle\" x=\"227.5088\" y=\"-666.3\">Feat_Model: Model</text>\n",
       "<polyline fill=\"none\" points=\"291.3071,-648.5 291.3071,-692.5 \" stroke=\"#000000\"/>\n",
       "<text fill=\"#000000\" font-family=\"Times,serif\" font-size=\"14.00\" text-anchor=\"middle\" x=\"319.1416\" y=\"-677.3\">input:</text>\n",
       "<polyline fill=\"none\" points=\"291.3071,-670.5 346.9761,-670.5 \" stroke=\"#000000\"/>\n",
       "<text fill=\"#000000\" font-family=\"Times,serif\" font-size=\"14.00\" text-anchor=\"middle\" x=\"319.1416\" y=\"-655.3\">output:</text>\n",
       "<polyline fill=\"none\" points=\"346.9761,-648.5 346.9761,-692.5 \" stroke=\"#000000\"/>\n",
       "<text fill=\"#000000\" font-family=\"Times,serif\" font-size=\"14.00\" text-anchor=\"middle\" x=\"402.8003\" y=\"-677.3\">(None, 64, 64, 1)</text>\n",
       "<polyline fill=\"none\" points=\"346.9761,-670.5 458.6245,-670.5 \" stroke=\"#000000\"/>\n",
       "<text fill=\"#000000\" font-family=\"Times,serif\" font-size=\"14.00\" text-anchor=\"middle\" x=\"402.8003\" y=\"-655.3\">(None, 576)</text>\n",
       "</g>\n",
       "<!-- 48210783648&#45;&gt;48210678616 -->\n",
       "<g class=\"edge\" id=\"edge1\">\n",
       "<title>48210783648-&gt;48210678616</title>\n",
       "<path d=\"M194.1614,-729.3664C213.9504,-719.4105 237.4734,-707.5759 258.2199,-697.1382\" fill=\"none\" stroke=\"#000000\"/>\n",
       "<polygon fill=\"#000000\" points=\"259.8666,-700.2278 267.2267,-692.6068 256.7205,-693.9746 259.8666,-700.2278\" stroke=\"#000000\"/>\n",
       "</g>\n",
       "<!-- 48210543224 -->\n",
       "<g class=\"node\" id=\"node2\">\n",
       "<title>48210543224</title>\n",
       "<polygon fill=\"none\" points=\"318.1069,-729.5 318.1069,-773.5 626.228,-773.5 626.228,-729.5 318.1069,-729.5\" stroke=\"#000000\"/>\n",
       "<text fill=\"#000000\" font-family=\"Times,serif\" font-size=\"14.00\" text-anchor=\"middle\" x=\"388.5088\" y=\"-747.3\">right_img: InputLayer</text>\n",
       "<polyline fill=\"none\" points=\"458.9106,-729.5 458.9106,-773.5 \" stroke=\"#000000\"/>\n",
       "<text fill=\"#000000\" font-family=\"Times,serif\" font-size=\"14.00\" text-anchor=\"middle\" x=\"486.7451\" y=\"-758.3\">input:</text>\n",
       "<polyline fill=\"none\" points=\"458.9106,-751.5 514.5796,-751.5 \" stroke=\"#000000\"/>\n",
       "<text fill=\"#000000\" font-family=\"Times,serif\" font-size=\"14.00\" text-anchor=\"middle\" x=\"486.7451\" y=\"-736.3\">output:</text>\n",
       "<polyline fill=\"none\" points=\"514.5796,-729.5 514.5796,-773.5 \" stroke=\"#000000\"/>\n",
       "<text fill=\"#000000\" font-family=\"Times,serif\" font-size=\"14.00\" text-anchor=\"middle\" x=\"570.4038\" y=\"-758.3\">(None, 64, 64, 1)</text>\n",
       "<polyline fill=\"none\" points=\"514.5796,-751.5 626.228,-751.5 \" stroke=\"#000000\"/>\n",
       "<text fill=\"#000000\" font-family=\"Times,serif\" font-size=\"14.00\" text-anchor=\"middle\" x=\"570.4038\" y=\"-736.3\">(None, 64, 64, 1)</text>\n",
       "</g>\n",
       "<!-- 48210543224&#45;&gt;48210678616 -->\n",
       "<g class=\"edge\" id=\"edge2\">\n",
       "<title>48210543224-&gt;48210678616</title>\n",
       "<path d=\"M428.1735,-729.3664C408.3846,-719.4105 384.8616,-707.5759 364.1151,-697.1382\" fill=\"none\" stroke=\"#000000\"/>\n",
       "<polygon fill=\"#000000\" points=\"365.6144,-693.9746 355.1082,-692.6068 362.4684,-700.2278 365.6144,-693.9746\" stroke=\"#000000\"/>\n",
       "</g>\n",
       "<!-- 48211783920 -->\n",
       "<g class=\"node\" id=\"node4\">\n",
       "<title>48211783920</title>\n",
       "<polygon fill=\"none\" points=\"118.2549,-567.5 118.2549,-611.5 504.0801,-611.5 504.0801,-567.5 118.2549,-567.5\" stroke=\"#000000\"/>\n",
       "<text fill=\"#000000\" font-family=\"Times,serif\" font-size=\"14.00\" text-anchor=\"middle\" x=\"199.5225\" y=\"-585.3\">concat_feats: Concatenate</text>\n",
       "<polyline fill=\"none\" points=\"280.79,-567.5 280.79,-611.5 \" stroke=\"#000000\"/>\n",
       "<text fill=\"#000000\" font-family=\"Times,serif\" font-size=\"14.00\" text-anchor=\"middle\" x=\"308.6245\" y=\"-596.3\">input:</text>\n",
       "<polyline fill=\"none\" points=\"280.79,-589.5 336.459,-589.5 \" stroke=\"#000000\"/>\n",
       "<text fill=\"#000000\" font-family=\"Times,serif\" font-size=\"14.00\" text-anchor=\"middle\" x=\"308.6245\" y=\"-574.3\">output:</text>\n",
       "<polyline fill=\"none\" points=\"336.459,-567.5 336.459,-611.5 \" stroke=\"#000000\"/>\n",
       "<text fill=\"#000000\" font-family=\"Times,serif\" font-size=\"14.00\" text-anchor=\"middle\" x=\"420.2695\" y=\"-596.3\">[(None, 576), (None, 576)]</text>\n",
       "<polyline fill=\"none\" points=\"336.459,-589.5 504.0801,-589.5 \" stroke=\"#000000\"/>\n",
       "<text fill=\"#000000\" font-family=\"Times,serif\" font-size=\"14.00\" text-anchor=\"middle\" x=\"420.0269\" y=\"-574.3\">(None, 1152)</text>\n",
       "</g>\n",
       "<!-- 48210678616&#45;&gt;48211783920 -->\n",
       "<g class=\"edge\" id=\"edge3\">\n",
       "<title>48210678616-&gt;48211783920</title>\n",
       "<path d=\"M311.1675,-648.3664C311.1675,-640.1516 311.1675,-630.6579 311.1675,-621.7252\" fill=\"none\" stroke=\"#000000\"/>\n",
       "<polygon fill=\"#000000\" points=\"314.6676,-621.6068 311.1675,-611.6068 307.6676,-621.6069 314.6676,-621.6068\" stroke=\"#000000\"/>\n",
       "</g>\n",
       "<!-- 48210534864 -->\n",
       "<g class=\"node\" id=\"node5\">\n",
       "<title>48210534864</title>\n",
       "<polygon fill=\"none\" points=\"182.3828,-486.5 182.3828,-530.5 439.9521,-530.5 439.9521,-486.5 182.3828,-486.5\" stroke=\"#000000\"/>\n",
       "<text fill=\"#000000\" font-family=\"Times,serif\" font-size=\"14.00\" text-anchor=\"middle\" x=\"238.0088\" y=\"-504.3\">dense_10: Dense</text>\n",
       "<polyline fill=\"none\" points=\"293.6348,-486.5 293.6348,-530.5 \" stroke=\"#000000\"/>\n",
       "<text fill=\"#000000\" font-family=\"Times,serif\" font-size=\"14.00\" text-anchor=\"middle\" x=\"321.4692\" y=\"-515.3\">input:</text>\n",
       "<polyline fill=\"none\" points=\"293.6348,-508.5 349.3037,-508.5 \" stroke=\"#000000\"/>\n",
       "<text fill=\"#000000\" font-family=\"Times,serif\" font-size=\"14.00\" text-anchor=\"middle\" x=\"321.4692\" y=\"-493.3\">output:</text>\n",
       "<polyline fill=\"none\" points=\"349.3037,-486.5 349.3037,-530.5 \" stroke=\"#000000\"/>\n",
       "<text fill=\"#000000\" font-family=\"Times,serif\" font-size=\"14.00\" text-anchor=\"middle\" x=\"394.3716\" y=\"-515.3\">(None, 1152)</text>\n",
       "<polyline fill=\"none\" points=\"349.3037,-508.5 439.9521,-508.5 \" stroke=\"#000000\"/>\n",
       "<text fill=\"#000000\" font-family=\"Times,serif\" font-size=\"14.00\" text-anchor=\"middle\" x=\"394.6279\" y=\"-493.3\">(None, 1024)</text>\n",
       "</g>\n",
       "<!-- 48211783920&#45;&gt;48210534864 -->\n",
       "<g class=\"edge\" id=\"edge5\">\n",
       "<title>48211783920-&gt;48210534864</title>\n",
       "<path d=\"M311.1675,-567.3664C311.1675,-559.1516 311.1675,-549.6579 311.1675,-540.7252\" fill=\"none\" stroke=\"#000000\"/>\n",
       "<polygon fill=\"#000000\" points=\"314.6676,-540.6068 311.1675,-530.6068 307.6676,-540.6069 314.6676,-540.6068\" stroke=\"#000000\"/>\n",
       "</g>\n",
       "<!-- 48208540840 -->\n",
       "<g class=\"node\" id=\"node6\">\n",
       "<title>48208540840</title>\n",
       "<polygon fill=\"none\" points=\"105.0205,-405.5 105.0205,-449.5 517.3145,-449.5 517.3145,-405.5 105.0205,-405.5\" stroke=\"#000000\"/>\n",
       "<text fill=\"#000000\" font-family=\"Times,serif\" font-size=\"14.00\" text-anchor=\"middle\" x=\"238.0088\" y=\"-423.3\">batch_normalization_7: BatchNormalization</text>\n",
       "<polyline fill=\"none\" points=\"370.9971,-405.5 370.9971,-449.5 \" stroke=\"#000000\"/>\n",
       "<text fill=\"#000000\" font-family=\"Times,serif\" font-size=\"14.00\" text-anchor=\"middle\" x=\"398.8315\" y=\"-434.3\">input:</text>\n",
       "<polyline fill=\"none\" points=\"370.9971,-427.5 426.666,-427.5 \" stroke=\"#000000\"/>\n",
       "<text fill=\"#000000\" font-family=\"Times,serif\" font-size=\"14.00\" text-anchor=\"middle\" x=\"398.8315\" y=\"-412.3\">output:</text>\n",
       "<polyline fill=\"none\" points=\"426.666,-405.5 426.666,-449.5 \" stroke=\"#000000\"/>\n",
       "<text fill=\"#000000\" font-family=\"Times,serif\" font-size=\"14.00\" text-anchor=\"middle\" x=\"471.9902\" y=\"-434.3\">(None, 1024)</text>\n",
       "<polyline fill=\"none\" points=\"426.666,-427.5 517.3145,-427.5 \" stroke=\"#000000\"/>\n",
       "<text fill=\"#000000\" font-family=\"Times,serif\" font-size=\"14.00\" text-anchor=\"middle\" x=\"471.9902\" y=\"-412.3\">(None, 1024)</text>\n",
       "</g>\n",
       "<!-- 48210534864&#45;&gt;48208540840 -->\n",
       "<g class=\"edge\" id=\"edge6\">\n",
       "<title>48210534864-&gt;48208540840</title>\n",
       "<path d=\"M311.1675,-486.3664C311.1675,-478.1516 311.1675,-468.6579 311.1675,-459.7252\" fill=\"none\" stroke=\"#000000\"/>\n",
       "<polygon fill=\"#000000\" points=\"314.6676,-459.6068 311.1675,-449.6068 307.6676,-459.6069 314.6676,-459.6068\" stroke=\"#000000\"/>\n",
       "</g>\n",
       "<!-- 48208542968 -->\n",
       "<g class=\"node\" id=\"node7\">\n",
       "<title>48208542968</title>\n",
       "<polygon fill=\"none\" points=\"162.5483,-324.5 162.5483,-368.5 459.7866,-368.5 459.7866,-324.5 162.5483,-324.5\" stroke=\"#000000\"/>\n",
       "<text fill=\"#000000\" font-family=\"Times,serif\" font-size=\"14.00\" text-anchor=\"middle\" x=\"238.0088\" y=\"-342.3\">activation_7: Activation</text>\n",
       "<polyline fill=\"none\" points=\"313.4692,-324.5 313.4692,-368.5 \" stroke=\"#000000\"/>\n",
       "<text fill=\"#000000\" font-family=\"Times,serif\" font-size=\"14.00\" text-anchor=\"middle\" x=\"341.3037\" y=\"-353.3\">input:</text>\n",
       "<polyline fill=\"none\" points=\"313.4692,-346.5 369.1382,-346.5 \" stroke=\"#000000\"/>\n",
       "<text fill=\"#000000\" font-family=\"Times,serif\" font-size=\"14.00\" text-anchor=\"middle\" x=\"341.3037\" y=\"-331.3\">output:</text>\n",
       "<polyline fill=\"none\" points=\"369.1382,-324.5 369.1382,-368.5 \" stroke=\"#000000\"/>\n",
       "<text fill=\"#000000\" font-family=\"Times,serif\" font-size=\"14.00\" text-anchor=\"middle\" x=\"414.4624\" y=\"-353.3\">(None, 1024)</text>\n",
       "<polyline fill=\"none\" points=\"369.1382,-346.5 459.7866,-346.5 \" stroke=\"#000000\"/>\n",
       "<text fill=\"#000000\" font-family=\"Times,serif\" font-size=\"14.00\" text-anchor=\"middle\" x=\"414.4624\" y=\"-331.3\">(None, 1024)</text>\n",
       "</g>\n",
       "<!-- 48208540840&#45;&gt;48208542968 -->\n",
       "<g class=\"edge\" id=\"edge7\">\n",
       "<title>48208540840-&gt;48208542968</title>\n",
       "<path d=\"M311.1675,-405.3664C311.1675,-397.1516 311.1675,-387.6579 311.1675,-378.7252\" fill=\"none\" stroke=\"#000000\"/>\n",
       "<polygon fill=\"#000000\" points=\"314.6676,-378.6068 311.1675,-368.6068 307.6676,-378.6069 314.6676,-378.6068\" stroke=\"#000000\"/>\n",
       "</g>\n",
       "<!-- 48209033928 -->\n",
       "<g class=\"node\" id=\"node8\">\n",
       "<title>48209033928</title>\n",
       "<polygon fill=\"none\" points=\"182.6392,-243.5 182.6392,-287.5 439.6958,-287.5 439.6958,-243.5 182.6392,-243.5\" stroke=\"#000000\"/>\n",
       "<text fill=\"#000000\" font-family=\"Times,serif\" font-size=\"14.00\" text-anchor=\"middle\" x=\"238.0088\" y=\"-261.3\">dense_11: Dense</text>\n",
       "<polyline fill=\"none\" points=\"293.3784,-243.5 293.3784,-287.5 \" stroke=\"#000000\"/>\n",
       "<text fill=\"#000000\" font-family=\"Times,serif\" font-size=\"14.00\" text-anchor=\"middle\" x=\"321.2129\" y=\"-272.3\">input:</text>\n",
       "<polyline fill=\"none\" points=\"293.3784,-265.5 349.0474,-265.5 \" stroke=\"#000000\"/>\n",
       "<text fill=\"#000000\" font-family=\"Times,serif\" font-size=\"14.00\" text-anchor=\"middle\" x=\"321.2129\" y=\"-250.3\">output:</text>\n",
       "<polyline fill=\"none\" points=\"349.0474,-243.5 349.0474,-287.5 \" stroke=\"#000000\"/>\n",
       "<text fill=\"#000000\" font-family=\"Times,serif\" font-size=\"14.00\" text-anchor=\"middle\" x=\"394.3716\" y=\"-272.3\">(None, 1024)</text>\n",
       "<polyline fill=\"none\" points=\"349.0474,-265.5 439.6958,-265.5 \" stroke=\"#000000\"/>\n",
       "<text fill=\"#000000\" font-family=\"Times,serif\" font-size=\"14.00\" text-anchor=\"middle\" x=\"394.3716\" y=\"-250.3\">(None, 4)</text>\n",
       "</g>\n",
       "<!-- 48208542968&#45;&gt;48209033928 -->\n",
       "<g class=\"edge\" id=\"edge8\">\n",
       "<title>48208542968-&gt;48209033928</title>\n",
       "<path d=\"M311.1675,-324.3664C311.1675,-316.1516 311.1675,-306.6579 311.1675,-297.7252\" fill=\"none\" stroke=\"#000000\"/>\n",
       "<polygon fill=\"#000000\" points=\"314.6676,-297.6068 311.1675,-287.6068 307.6676,-297.6069 314.6676,-297.6068\" stroke=\"#000000\"/>\n",
       "</g>\n",
       "<!-- 48205883096 -->\n",
       "<g class=\"node\" id=\"node9\">\n",
       "<title>48205883096</title>\n",
       "<polygon fill=\"none\" points=\"115.5205,-162.5 115.5205,-206.5 506.8145,-206.5 506.8145,-162.5 115.5205,-162.5\" stroke=\"#000000\"/>\n",
       "<text fill=\"#000000\" font-family=\"Times,serif\" font-size=\"14.00\" text-anchor=\"middle\" x=\"248.5088\" y=\"-180.3\">batch_normalization_8: BatchNormalization</text>\n",
       "<polyline fill=\"none\" points=\"381.4971,-162.5 381.4971,-206.5 \" stroke=\"#000000\"/>\n",
       "<text fill=\"#000000\" font-family=\"Times,serif\" font-size=\"14.00\" text-anchor=\"middle\" x=\"409.3315\" y=\"-191.3\">input:</text>\n",
       "<polyline fill=\"none\" points=\"381.4971,-184.5 437.166,-184.5 \" stroke=\"#000000\"/>\n",
       "<text fill=\"#000000\" font-family=\"Times,serif\" font-size=\"14.00\" text-anchor=\"middle\" x=\"409.3315\" y=\"-169.3\">output:</text>\n",
       "<polyline fill=\"none\" points=\"437.166,-162.5 437.166,-206.5 \" stroke=\"#000000\"/>\n",
       "<text fill=\"#000000\" font-family=\"Times,serif\" font-size=\"14.00\" text-anchor=\"middle\" x=\"471.9902\" y=\"-191.3\">(None, 4)</text>\n",
       "<polyline fill=\"none\" points=\"437.166,-184.5 506.8145,-184.5 \" stroke=\"#000000\"/>\n",
       "<text fill=\"#000000\" font-family=\"Times,serif\" font-size=\"14.00\" text-anchor=\"middle\" x=\"471.9902\" y=\"-169.3\">(None, 4)</text>\n",
       "</g>\n",
       "<!-- 48209033928&#45;&gt;48205883096 -->\n",
       "<g class=\"edge\" id=\"edge9\">\n",
       "<title>48209033928-&gt;48205883096</title>\n",
       "<path d=\"M311.1675,-243.3664C311.1675,-235.1516 311.1675,-225.6579 311.1675,-216.7252\" fill=\"none\" stroke=\"#000000\"/>\n",
       "<polygon fill=\"#000000\" points=\"314.6676,-216.6068 311.1675,-206.6068 307.6676,-216.6069 314.6676,-216.6068\" stroke=\"#000000\"/>\n",
       "</g>\n",
       "<!-- 48213741240 -->\n",
       "<g class=\"node\" id=\"node10\">\n",
       "<title>48213741240</title>\n",
       "<polygon fill=\"none\" points=\"173.0483,-81.5 173.0483,-125.5 449.2866,-125.5 449.2866,-81.5 173.0483,-81.5\" stroke=\"#000000\"/>\n",
       "<text fill=\"#000000\" font-family=\"Times,serif\" font-size=\"14.00\" text-anchor=\"middle\" x=\"248.5088\" y=\"-99.3\">activation_8: Activation</text>\n",
       "<polyline fill=\"none\" points=\"323.9692,-81.5 323.9692,-125.5 \" stroke=\"#000000\"/>\n",
       "<text fill=\"#000000\" font-family=\"Times,serif\" font-size=\"14.00\" text-anchor=\"middle\" x=\"351.8037\" y=\"-110.3\">input:</text>\n",
       "<polyline fill=\"none\" points=\"323.9692,-103.5 379.6382,-103.5 \" stroke=\"#000000\"/>\n",
       "<text fill=\"#000000\" font-family=\"Times,serif\" font-size=\"14.00\" text-anchor=\"middle\" x=\"351.8037\" y=\"-88.3\">output:</text>\n",
       "<polyline fill=\"none\" points=\"379.6382,-81.5 379.6382,-125.5 \" stroke=\"#000000\"/>\n",
       "<text fill=\"#000000\" font-family=\"Times,serif\" font-size=\"14.00\" text-anchor=\"middle\" x=\"414.4624\" y=\"-110.3\">(None, 4)</text>\n",
       "<polyline fill=\"none\" points=\"379.6382,-103.5 449.2866,-103.5 \" stroke=\"#000000\"/>\n",
       "<text fill=\"#000000\" font-family=\"Times,serif\" font-size=\"14.00\" text-anchor=\"middle\" x=\"414.4624\" y=\"-88.3\">(None, 4)</text>\n",
       "</g>\n",
       "<!-- 48205883096&#45;&gt;48213741240 -->\n",
       "<g class=\"edge\" id=\"edge10\">\n",
       "<title>48205883096-&gt;48213741240</title>\n",
       "<path d=\"M311.1675,-162.3664C311.1675,-154.1516 311.1675,-144.6579 311.1675,-135.7252\" fill=\"none\" stroke=\"#000000\"/>\n",
       "<polygon fill=\"#000000\" points=\"314.6676,-135.6068 311.1675,-125.6068 307.6676,-135.6069 314.6676,-135.6068\" stroke=\"#000000\"/>\n",
       "</g>\n",
       "<!-- 48214594056 -->\n",
       "<g class=\"node\" id=\"node11\">\n",
       "<title>48214594056</title>\n",
       "<polygon fill=\"none\" points=\"192.8828,-.5 192.8828,-44.5 429.4521,-44.5 429.4521,-.5 192.8828,-.5\" stroke=\"#000000\"/>\n",
       "<text fill=\"#000000\" font-family=\"Times,serif\" font-size=\"14.00\" text-anchor=\"middle\" x=\"248.5088\" y=\"-18.3\">dense_12: Dense</text>\n",
       "<polyline fill=\"none\" points=\"304.1348,-.5 304.1348,-44.5 \" stroke=\"#000000\"/>\n",
       "<text fill=\"#000000\" font-family=\"Times,serif\" font-size=\"14.00\" text-anchor=\"middle\" x=\"331.9692\" y=\"-29.3\">input:</text>\n",
       "<polyline fill=\"none\" points=\"304.1348,-22.5 359.8037,-22.5 \" stroke=\"#000000\"/>\n",
       "<text fill=\"#000000\" font-family=\"Times,serif\" font-size=\"14.00\" text-anchor=\"middle\" x=\"331.9692\" y=\"-7.3\">output:</text>\n",
       "<polyline fill=\"none\" points=\"359.8037,-.5 359.8037,-44.5 \" stroke=\"#000000\"/>\n",
       "<text fill=\"#000000\" font-family=\"Times,serif\" font-size=\"14.00\" text-anchor=\"middle\" x=\"394.6279\" y=\"-29.3\">(None, 4)</text>\n",
       "<polyline fill=\"none\" points=\"359.8037,-22.5 429.4521,-22.5 \" stroke=\"#000000\"/>\n",
       "<text fill=\"#000000\" font-family=\"Times,serif\" font-size=\"14.00\" text-anchor=\"middle\" x=\"394.6279\" y=\"-7.3\">(None, 1)</text>\n",
       "</g>\n",
       "<!-- 48213741240&#45;&gt;48214594056 -->\n",
       "<g class=\"edge\" id=\"edge11\">\n",
       "<title>48213741240-&gt;48214594056</title>\n",
       "<path d=\"M311.1675,-81.3664C311.1675,-73.1516 311.1675,-63.6579 311.1675,-54.7252\" fill=\"none\" stroke=\"#000000\"/>\n",
       "<polygon fill=\"#000000\" points=\"314.6676,-54.6068 311.1675,-44.6068 307.6676,-54.6069 314.6676,-54.6068\" stroke=\"#000000\"/>\n",
       "</g>\n",
       "</g>\n",
       "</svg>"
      ],
      "text/plain": [
       "<IPython.core.display.SVG object>"
      ]
     },
     "execution_count": 59,
     "metadata": {},
     "output_type": "execute_result"
    }
   ],
   "source": [
    "SVG(model_to_dot(model, show_layer_names=True, show_shapes=True, rankdir='TB').create(prog='dot', format='svg'))\n"
   ]
  },
  {
   "cell_type": "markdown",
   "metadata": {},
   "source": [
    "## Seen Dataset"
   ]
  },
  {
   "cell_type": "code",
   "execution_count": 40,
   "metadata": {
    "ExecuteTime": {
     "end_time": "2019-04-08T19:59:21.820670Z",
     "start_time": "2019-04-08T19:58:42.827252Z"
    }
   },
   "outputs": [],
   "source": [
    "threshold = 0.9\n",
    "predSeen, simMatSeen = getSimMat(encoderSeen,testSeenImgs)\n",
    "valsSeen = getTrueFalse(simMatSeen, testSeenImgsList, threshold)\n",
    "accSeen = calAccuracy(testSeenImgsList, simMatSeen, threshold)"
   ]
  },
  {
   "cell_type": "markdown",
   "metadata": {},
   "source": [
    "## Shuffled Dataset"
   ]
  },
  {
   "cell_type": "code",
   "execution_count": 41,
   "metadata": {
    "ExecuteTime": {
     "end_time": "2019-04-08T20:01:54.063940Z",
     "start_time": "2019-04-08T19:59:24.085657Z"
    }
   },
   "outputs": [],
   "source": [
    "predShuffle, simMatShuffle = getSimMat(encoderShuffle,testShuffleImgs)\n",
    "valsShuffle = getTrueFalse(simMatShuffle, testShuffleImgsList, threshold)\n",
    "accShuffle = calAccuracy(testShuffleImgsList, simMatShuffle, threshold)"
   ]
  },
  {
   "cell_type": "markdown",
   "metadata": {},
   "source": [
    "## Unseen Dataset"
   ]
  },
  {
   "cell_type": "code",
   "execution_count": 42,
   "metadata": {
    "ExecuteTime": {
     "end_time": "2019-04-08T20:02:18.584555Z",
     "start_time": "2019-04-08T20:01:54.731534Z"
    }
   },
   "outputs": [],
   "source": [
    "predUnseen, simMatUnseen = getSimMat(encoderUnseen,testUnseenImgs)\n",
    "valsUnseen = getTrueFalse(simMatUnseen, testUnseenImgsList, threshold)\n",
    "accUnseen = calAccuracy(testUnseenImgsList, simMatUnseen, threshold)"
   ]
  },
  {
   "cell_type": "code",
   "execution_count": 43,
   "metadata": {
    "ExecuteTime": {
     "end_time": "2019-04-08T20:02:19.251639Z",
     "start_time": "2019-04-08T20:02:19.243452Z"
    }
   },
   "outputs": [
    {
     "name": "stdout",
     "output_type": "stream",
     "text": [
      "Seen Accuracy : 3.479847821481534\n",
      "Shuffle Accuracy : 3.3106374237710114\n",
      "Unseen Accuracy : 3.1478268809349887\n"
     ]
    }
   ],
   "source": [
    "print (\"Seen Accuracy :\",accSeen)\n",
    "print (\"Shuffle Accuracy :\", accShuffle)\n",
    "print (\"Unseen Accuracy :\", accUnseen)"
   ]
  },
  {
   "cell_type": "code",
   "execution_count": 60,
   "metadata": {
    "ExecuteTime": {
     "end_time": "2019-04-08T21:11:07.621952Z",
     "start_time": "2019-04-08T21:11:07.616826Z"
    }
   },
   "outputs": [
    {
     "name": "stdout",
     "output_type": "stream",
     "text": [
      "TrueP, TrueF, FalseP, FalseN\n",
      "Seen : (1852, 29686, 874760, 6)\n",
      "Shuffle : (7223, 121390, 3756192, 36)\n",
      "Unseen : (8426, 16396, 763680, 42)\n"
     ]
    }
   ],
   "source": [
    "print (\"TrueP, TrueF, FalseP, FalseN\")\n",
    "print (\"Seen :\",valsSeen)\n",
    "print (\"Shuffle :\", valsShuffle)\n",
    "print (\"Unseen :\", valsUnseen)"
   ]
  },
  {
   "cell_type": "code",
   "execution_count": null,
   "metadata": {},
   "outputs": [],
   "source": []
  }
 ],
 "metadata": {
  "kernelspec": {
   "display_name": "Python 3",
   "language": "python",
   "name": "python3"
  },
  "language_info": {
   "codemirror_mode": {
    "name": "ipython",
    "version": 3
   },
   "file_extension": ".py",
   "mimetype": "text/x-python",
   "name": "python",
   "nbconvert_exporter": "python",
   "pygments_lexer": "ipython3",
   "version": "3.7.3"
  },
  "latex_envs": {
   "LaTeX_envs_menu_present": true,
   "autoclose": false,
   "autocomplete": true,
   "bibliofile": "biblio.bib",
   "cite_by": "apalike",
   "current_citInitial": 1,
   "eqLabelWithNumbers": true,
   "eqNumInitial": 1,
   "hotkeys": {
    "equation": "Ctrl-E",
    "itemize": "Ctrl-I"
   },
   "labels_anchors": false,
   "latex_user_defs": false,
   "report_style_numbering": false,
   "user_envs_cfg": false
  },
  "toc": {
   "base_numbering": 1,
   "nav_menu": {},
   "number_sections": true,
   "sideBar": true,
   "skip_h1_title": false,
   "title_cell": "Table of Contents",
   "title_sidebar": "Contents",
   "toc_cell": false,
   "toc_position": {},
   "toc_section_display": true,
   "toc_window_display": false
  },
  "varInspector": {
   "cols": {
    "lenName": 16,
    "lenType": 16,
    "lenVar": 40
   },
   "kernels_config": {
    "python": {
     "delete_cmd_postfix": "",
     "delete_cmd_prefix": "del ",
     "library": "var_list.py",
     "varRefreshCmd": "print(var_dic_list())"
    },
    "r": {
     "delete_cmd_postfix": ") ",
     "delete_cmd_prefix": "rm(",
     "library": "var_list.r",
     "varRefreshCmd": "cat(var_dic_list()) "
    }
   },
   "types_to_exclude": [
    "module",
    "function",
    "builtin_function_or_method",
    "instance",
    "_Feature"
   ],
   "window_display": false
  }
 },
 "nbformat": 4,
 "nbformat_minor": 2
}
